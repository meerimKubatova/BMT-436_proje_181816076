{
 "cells": [
  {
   "cell_type": "code",
   "execution_count": 49,
   "metadata": {},
   "outputs": [],
   "source": [
    "import pandas as pd\n",
    "import numpy as np\n",
    "import seaborn as sn\n",
    "import matplotlib.pyplot as plt\n",
    "import keras\n",
    "import tensorflow\n",
    "\n",
    "from sklearn.utils import class_weight\n",
    "from tensorflow.keras.utils import to_categorical\n",
    "from sklearn import preprocessing\n",
    "from sklearn.metrics import confusion_matrix, recall_score, precision_score\n",
    "from keras.models import Sequential,load_model\n",
    "from keras.layers import Dense, Dropout, LSTM, Embedding"
   ]
  },
  {
   "cell_type": "code",
   "execution_count": 2,
   "metadata": {},
   "outputs": [],
   "source": [
    "model_path = 'generated/m_classifier/multiclass_model.h5'"
   ]
  },
  {
   "cell_type": "code",
   "execution_count": 3,
   "metadata": {},
   "outputs": [],
   "source": [
    "train_df=pd.read_csv('generated/EDA/train_df.csv', sep=',')\n",
    "test_df=pd.read_csv('generated/EDA/test_df.csv', sep=',')\n",
    "rul_true=pd.read_csv('generated/EDA/rul_true.csv', sep=',')\n"
   ]
  },
  {
   "cell_type": "code",
   "execution_count": 4,
   "metadata": {},
   "outputs": [
    {
     "data": {
      "text/html": [
       "<div>\n",
       "<style scoped>\n",
       "    .dataframe tbody tr th:only-of-type {\n",
       "        vertical-align: middle;\n",
       "    }\n",
       "\n",
       "    .dataframe tbody tr th {\n",
       "        vertical-align: top;\n",
       "    }\n",
       "\n",
       "    .dataframe thead th {\n",
       "        text-align: right;\n",
       "    }\n",
       "</style>\n",
       "<table border=\"1\" class=\"dataframe\">\n",
       "  <thead>\n",
       "    <tr style=\"text-align: right;\">\n",
       "      <th></th>\n",
       "      <th>id</th>\n",
       "      <th>cycle</th>\n",
       "      <th>settings_1</th>\n",
       "      <th>settings_2</th>\n",
       "      <th>sensor_2</th>\n",
       "      <th>sensor_3</th>\n",
       "      <th>sensor_4</th>\n",
       "      <th>sensor_7</th>\n",
       "      <th>sensor_8</th>\n",
       "      <th>sensor_9</th>\n",
       "      <th>sensor_11</th>\n",
       "      <th>sensor_12</th>\n",
       "      <th>sensor_13</th>\n",
       "      <th>sensor_14</th>\n",
       "      <th>sensor_15</th>\n",
       "      <th>sensor_17</th>\n",
       "      <th>sensor_20</th>\n",
       "      <th>sensor_21</th>\n",
       "      <th>rul</th>\n",
       "    </tr>\n",
       "  </thead>\n",
       "  <tbody>\n",
       "    <tr>\n",
       "      <th>0</th>\n",
       "      <td>1</td>\n",
       "      <td>1</td>\n",
       "      <td>-0.0007</td>\n",
       "      <td>-0.0004</td>\n",
       "      <td>641.82</td>\n",
       "      <td>1589.70</td>\n",
       "      <td>1400.60</td>\n",
       "      <td>554.36</td>\n",
       "      <td>2388.06</td>\n",
       "      <td>9046.19</td>\n",
       "      <td>47.47</td>\n",
       "      <td>521.66</td>\n",
       "      <td>2388.02</td>\n",
       "      <td>8138.62</td>\n",
       "      <td>8.4195</td>\n",
       "      <td>392</td>\n",
       "      <td>39.06</td>\n",
       "      <td>23.4190</td>\n",
       "      <td>191</td>\n",
       "    </tr>\n",
       "    <tr>\n",
       "      <th>1</th>\n",
       "      <td>1</td>\n",
       "      <td>2</td>\n",
       "      <td>0.0019</td>\n",
       "      <td>-0.0003</td>\n",
       "      <td>642.15</td>\n",
       "      <td>1591.82</td>\n",
       "      <td>1403.14</td>\n",
       "      <td>553.75</td>\n",
       "      <td>2388.04</td>\n",
       "      <td>9044.07</td>\n",
       "      <td>47.49</td>\n",
       "      <td>522.28</td>\n",
       "      <td>2388.07</td>\n",
       "      <td>8131.49</td>\n",
       "      <td>8.4318</td>\n",
       "      <td>392</td>\n",
       "      <td>39.00</td>\n",
       "      <td>23.4236</td>\n",
       "      <td>190</td>\n",
       "    </tr>\n",
       "    <tr>\n",
       "      <th>2</th>\n",
       "      <td>1</td>\n",
       "      <td>3</td>\n",
       "      <td>-0.0043</td>\n",
       "      <td>0.0003</td>\n",
       "      <td>642.35</td>\n",
       "      <td>1587.99</td>\n",
       "      <td>1404.20</td>\n",
       "      <td>554.26</td>\n",
       "      <td>2388.08</td>\n",
       "      <td>9052.94</td>\n",
       "      <td>47.27</td>\n",
       "      <td>522.42</td>\n",
       "      <td>2388.03</td>\n",
       "      <td>8133.23</td>\n",
       "      <td>8.4178</td>\n",
       "      <td>390</td>\n",
       "      <td>38.95</td>\n",
       "      <td>23.3442</td>\n",
       "      <td>189</td>\n",
       "    </tr>\n",
       "    <tr>\n",
       "      <th>3</th>\n",
       "      <td>1</td>\n",
       "      <td>4</td>\n",
       "      <td>0.0007</td>\n",
       "      <td>0.0000</td>\n",
       "      <td>642.35</td>\n",
       "      <td>1582.79</td>\n",
       "      <td>1401.87</td>\n",
       "      <td>554.45</td>\n",
       "      <td>2388.11</td>\n",
       "      <td>9049.48</td>\n",
       "      <td>47.13</td>\n",
       "      <td>522.86</td>\n",
       "      <td>2388.08</td>\n",
       "      <td>8133.83</td>\n",
       "      <td>8.3682</td>\n",
       "      <td>392</td>\n",
       "      <td>38.88</td>\n",
       "      <td>23.3739</td>\n",
       "      <td>188</td>\n",
       "    </tr>\n",
       "    <tr>\n",
       "      <th>4</th>\n",
       "      <td>1</td>\n",
       "      <td>5</td>\n",
       "      <td>-0.0019</td>\n",
       "      <td>-0.0002</td>\n",
       "      <td>642.37</td>\n",
       "      <td>1582.85</td>\n",
       "      <td>1406.22</td>\n",
       "      <td>554.00</td>\n",
       "      <td>2388.06</td>\n",
       "      <td>9055.15</td>\n",
       "      <td>47.28</td>\n",
       "      <td>522.19</td>\n",
       "      <td>2388.04</td>\n",
       "      <td>8133.80</td>\n",
       "      <td>8.4294</td>\n",
       "      <td>393</td>\n",
       "      <td>38.90</td>\n",
       "      <td>23.4044</td>\n",
       "      <td>187</td>\n",
       "    </tr>\n",
       "    <tr>\n",
       "      <th>...</th>\n",
       "      <td>...</td>\n",
       "      <td>...</td>\n",
       "      <td>...</td>\n",
       "      <td>...</td>\n",
       "      <td>...</td>\n",
       "      <td>...</td>\n",
       "      <td>...</td>\n",
       "      <td>...</td>\n",
       "      <td>...</td>\n",
       "      <td>...</td>\n",
       "      <td>...</td>\n",
       "      <td>...</td>\n",
       "      <td>...</td>\n",
       "      <td>...</td>\n",
       "      <td>...</td>\n",
       "      <td>...</td>\n",
       "      <td>...</td>\n",
       "      <td>...</td>\n",
       "      <td>...</td>\n",
       "    </tr>\n",
       "    <tr>\n",
       "      <th>20626</th>\n",
       "      <td>100</td>\n",
       "      <td>196</td>\n",
       "      <td>-0.0004</td>\n",
       "      <td>-0.0003</td>\n",
       "      <td>643.49</td>\n",
       "      <td>1597.98</td>\n",
       "      <td>1428.63</td>\n",
       "      <td>551.43</td>\n",
       "      <td>2388.19</td>\n",
       "      <td>9065.52</td>\n",
       "      <td>48.07</td>\n",
       "      <td>519.49</td>\n",
       "      <td>2388.26</td>\n",
       "      <td>8137.60</td>\n",
       "      <td>8.4956</td>\n",
       "      <td>397</td>\n",
       "      <td>38.49</td>\n",
       "      <td>22.9735</td>\n",
       "      <td>4</td>\n",
       "    </tr>\n",
       "    <tr>\n",
       "      <th>20627</th>\n",
       "      <td>100</td>\n",
       "      <td>197</td>\n",
       "      <td>-0.0016</td>\n",
       "      <td>-0.0005</td>\n",
       "      <td>643.54</td>\n",
       "      <td>1604.50</td>\n",
       "      <td>1433.58</td>\n",
       "      <td>550.86</td>\n",
       "      <td>2388.23</td>\n",
       "      <td>9065.11</td>\n",
       "      <td>48.04</td>\n",
       "      <td>519.68</td>\n",
       "      <td>2388.22</td>\n",
       "      <td>8136.50</td>\n",
       "      <td>8.5139</td>\n",
       "      <td>395</td>\n",
       "      <td>38.30</td>\n",
       "      <td>23.1594</td>\n",
       "      <td>3</td>\n",
       "    </tr>\n",
       "    <tr>\n",
       "      <th>20628</th>\n",
       "      <td>100</td>\n",
       "      <td>198</td>\n",
       "      <td>0.0004</td>\n",
       "      <td>0.0000</td>\n",
       "      <td>643.42</td>\n",
       "      <td>1602.46</td>\n",
       "      <td>1428.18</td>\n",
       "      <td>550.94</td>\n",
       "      <td>2388.24</td>\n",
       "      <td>9065.90</td>\n",
       "      <td>48.09</td>\n",
       "      <td>520.01</td>\n",
       "      <td>2388.24</td>\n",
       "      <td>8141.05</td>\n",
       "      <td>8.5646</td>\n",
       "      <td>398</td>\n",
       "      <td>38.44</td>\n",
       "      <td>22.9333</td>\n",
       "      <td>2</td>\n",
       "    </tr>\n",
       "    <tr>\n",
       "      <th>20629</th>\n",
       "      <td>100</td>\n",
       "      <td>199</td>\n",
       "      <td>-0.0011</td>\n",
       "      <td>0.0003</td>\n",
       "      <td>643.23</td>\n",
       "      <td>1605.26</td>\n",
       "      <td>1426.53</td>\n",
       "      <td>550.68</td>\n",
       "      <td>2388.25</td>\n",
       "      <td>9073.72</td>\n",
       "      <td>48.39</td>\n",
       "      <td>519.67</td>\n",
       "      <td>2388.23</td>\n",
       "      <td>8139.29</td>\n",
       "      <td>8.5389</td>\n",
       "      <td>395</td>\n",
       "      <td>38.29</td>\n",
       "      <td>23.0640</td>\n",
       "      <td>1</td>\n",
       "    </tr>\n",
       "    <tr>\n",
       "      <th>20630</th>\n",
       "      <td>100</td>\n",
       "      <td>200</td>\n",
       "      <td>-0.0032</td>\n",
       "      <td>-0.0005</td>\n",
       "      <td>643.85</td>\n",
       "      <td>1600.38</td>\n",
       "      <td>1432.14</td>\n",
       "      <td>550.79</td>\n",
       "      <td>2388.26</td>\n",
       "      <td>9061.48</td>\n",
       "      <td>48.20</td>\n",
       "      <td>519.30</td>\n",
       "      <td>2388.26</td>\n",
       "      <td>8137.33</td>\n",
       "      <td>8.5036</td>\n",
       "      <td>396</td>\n",
       "      <td>38.37</td>\n",
       "      <td>23.0522</td>\n",
       "      <td>0</td>\n",
       "    </tr>\n",
       "  </tbody>\n",
       "</table>\n",
       "<p>20631 rows × 19 columns</p>\n",
       "</div>"
      ],
      "text/plain": [
       "        id  cycle  settings_1  settings_2  sensor_2  sensor_3  sensor_4  \\\n",
       "0        1      1     -0.0007     -0.0004    641.82   1589.70   1400.60   \n",
       "1        1      2      0.0019     -0.0003    642.15   1591.82   1403.14   \n",
       "2        1      3     -0.0043      0.0003    642.35   1587.99   1404.20   \n",
       "3        1      4      0.0007      0.0000    642.35   1582.79   1401.87   \n",
       "4        1      5     -0.0019     -0.0002    642.37   1582.85   1406.22   \n",
       "...    ...    ...         ...         ...       ...       ...       ...   \n",
       "20626  100    196     -0.0004     -0.0003    643.49   1597.98   1428.63   \n",
       "20627  100    197     -0.0016     -0.0005    643.54   1604.50   1433.58   \n",
       "20628  100    198      0.0004      0.0000    643.42   1602.46   1428.18   \n",
       "20629  100    199     -0.0011      0.0003    643.23   1605.26   1426.53   \n",
       "20630  100    200     -0.0032     -0.0005    643.85   1600.38   1432.14   \n",
       "\n",
       "       sensor_7  sensor_8  sensor_9  sensor_11  sensor_12  sensor_13  \\\n",
       "0        554.36   2388.06   9046.19      47.47     521.66    2388.02   \n",
       "1        553.75   2388.04   9044.07      47.49     522.28    2388.07   \n",
       "2        554.26   2388.08   9052.94      47.27     522.42    2388.03   \n",
       "3        554.45   2388.11   9049.48      47.13     522.86    2388.08   \n",
       "4        554.00   2388.06   9055.15      47.28     522.19    2388.04   \n",
       "...         ...       ...       ...        ...        ...        ...   \n",
       "20626    551.43   2388.19   9065.52      48.07     519.49    2388.26   \n",
       "20627    550.86   2388.23   9065.11      48.04     519.68    2388.22   \n",
       "20628    550.94   2388.24   9065.90      48.09     520.01    2388.24   \n",
       "20629    550.68   2388.25   9073.72      48.39     519.67    2388.23   \n",
       "20630    550.79   2388.26   9061.48      48.20     519.30    2388.26   \n",
       "\n",
       "       sensor_14  sensor_15  sensor_17  sensor_20  sensor_21  rul  \n",
       "0        8138.62     8.4195        392      39.06    23.4190  191  \n",
       "1        8131.49     8.4318        392      39.00    23.4236  190  \n",
       "2        8133.23     8.4178        390      38.95    23.3442  189  \n",
       "3        8133.83     8.3682        392      38.88    23.3739  188  \n",
       "4        8133.80     8.4294        393      38.90    23.4044  187  \n",
       "...          ...        ...        ...        ...        ...  ...  \n",
       "20626    8137.60     8.4956        397      38.49    22.9735    4  \n",
       "20627    8136.50     8.5139        395      38.30    23.1594    3  \n",
       "20628    8141.05     8.5646        398      38.44    22.9333    2  \n",
       "20629    8139.29     8.5389        395      38.29    23.0640    1  \n",
       "20630    8137.33     8.5036        396      38.37    23.0522    0  \n",
       "\n",
       "[20631 rows x 19 columns]"
      ]
     },
     "execution_count": 4,
     "metadata": {},
     "output_type": "execute_result"
    }
   ],
   "source": [
    "train_df"
   ]
  },
  {
   "cell_type": "code",
   "execution_count": 5,
   "metadata": {},
   "outputs": [
    {
     "data": {
      "text/html": [
       "<div>\n",
       "<style scoped>\n",
       "    .dataframe tbody tr th:only-of-type {\n",
       "        vertical-align: middle;\n",
       "    }\n",
       "\n",
       "    .dataframe tbody tr th {\n",
       "        vertical-align: top;\n",
       "    }\n",
       "\n",
       "    .dataframe thead th {\n",
       "        text-align: right;\n",
       "    }\n",
       "</style>\n",
       "<table border=\"1\" class=\"dataframe\">\n",
       "  <thead>\n",
       "    <tr style=\"text-align: right;\">\n",
       "      <th></th>\n",
       "      <th>id</th>\n",
       "      <th>cycle</th>\n",
       "      <th>settings_1</th>\n",
       "      <th>settings_2</th>\n",
       "      <th>sensor_2</th>\n",
       "      <th>sensor_3</th>\n",
       "      <th>sensor_4</th>\n",
       "      <th>sensor_7</th>\n",
       "      <th>sensor_8</th>\n",
       "      <th>sensor_9</th>\n",
       "      <th>sensor_11</th>\n",
       "      <th>sensor_12</th>\n",
       "      <th>sensor_13</th>\n",
       "      <th>sensor_14</th>\n",
       "      <th>sensor_15</th>\n",
       "      <th>sensor_17</th>\n",
       "      <th>sensor_20</th>\n",
       "      <th>sensor_21</th>\n",
       "      <th>rul</th>\n",
       "    </tr>\n",
       "  </thead>\n",
       "  <tbody>\n",
       "    <tr>\n",
       "      <th>0</th>\n",
       "      <td>1</td>\n",
       "      <td>1</td>\n",
       "      <td>0.0023</td>\n",
       "      <td>0.0003</td>\n",
       "      <td>643.02</td>\n",
       "      <td>1585.29</td>\n",
       "      <td>1398.21</td>\n",
       "      <td>553.90</td>\n",
       "      <td>2388.04</td>\n",
       "      <td>9050.17</td>\n",
       "      <td>47.20</td>\n",
       "      <td>521.72</td>\n",
       "      <td>2388.03</td>\n",
       "      <td>8125.55</td>\n",
       "      <td>8.4052</td>\n",
       "      <td>392</td>\n",
       "      <td>38.86</td>\n",
       "      <td>23.3735</td>\n",
       "      <td>142</td>\n",
       "    </tr>\n",
       "    <tr>\n",
       "      <th>1</th>\n",
       "      <td>1</td>\n",
       "      <td>2</td>\n",
       "      <td>-0.0027</td>\n",
       "      <td>-0.0003</td>\n",
       "      <td>641.71</td>\n",
       "      <td>1588.45</td>\n",
       "      <td>1395.42</td>\n",
       "      <td>554.85</td>\n",
       "      <td>2388.01</td>\n",
       "      <td>9054.42</td>\n",
       "      <td>47.50</td>\n",
       "      <td>522.16</td>\n",
       "      <td>2388.06</td>\n",
       "      <td>8139.62</td>\n",
       "      <td>8.3803</td>\n",
       "      <td>393</td>\n",
       "      <td>39.02</td>\n",
       "      <td>23.3916</td>\n",
       "      <td>141</td>\n",
       "    </tr>\n",
       "    <tr>\n",
       "      <th>2</th>\n",
       "      <td>1</td>\n",
       "      <td>3</td>\n",
       "      <td>0.0003</td>\n",
       "      <td>0.0001</td>\n",
       "      <td>642.46</td>\n",
       "      <td>1586.94</td>\n",
       "      <td>1401.34</td>\n",
       "      <td>554.11</td>\n",
       "      <td>2388.05</td>\n",
       "      <td>9056.96</td>\n",
       "      <td>47.50</td>\n",
       "      <td>521.97</td>\n",
       "      <td>2388.03</td>\n",
       "      <td>8130.10</td>\n",
       "      <td>8.4441</td>\n",
       "      <td>393</td>\n",
       "      <td>39.08</td>\n",
       "      <td>23.4166</td>\n",
       "      <td>140</td>\n",
       "    </tr>\n",
       "    <tr>\n",
       "      <th>3</th>\n",
       "      <td>1</td>\n",
       "      <td>4</td>\n",
       "      <td>0.0042</td>\n",
       "      <td>0.0000</td>\n",
       "      <td>642.44</td>\n",
       "      <td>1584.12</td>\n",
       "      <td>1406.42</td>\n",
       "      <td>554.07</td>\n",
       "      <td>2388.03</td>\n",
       "      <td>9045.29</td>\n",
       "      <td>47.28</td>\n",
       "      <td>521.38</td>\n",
       "      <td>2388.05</td>\n",
       "      <td>8132.90</td>\n",
       "      <td>8.3917</td>\n",
       "      <td>391</td>\n",
       "      <td>39.00</td>\n",
       "      <td>23.3737</td>\n",
       "      <td>139</td>\n",
       "    </tr>\n",
       "    <tr>\n",
       "      <th>4</th>\n",
       "      <td>1</td>\n",
       "      <td>5</td>\n",
       "      <td>0.0014</td>\n",
       "      <td>0.0000</td>\n",
       "      <td>642.51</td>\n",
       "      <td>1587.19</td>\n",
       "      <td>1401.92</td>\n",
       "      <td>554.16</td>\n",
       "      <td>2388.01</td>\n",
       "      <td>9044.55</td>\n",
       "      <td>47.31</td>\n",
       "      <td>522.15</td>\n",
       "      <td>2388.03</td>\n",
       "      <td>8129.54</td>\n",
       "      <td>8.4031</td>\n",
       "      <td>390</td>\n",
       "      <td>38.99</td>\n",
       "      <td>23.4130</td>\n",
       "      <td>138</td>\n",
       "    </tr>\n",
       "    <tr>\n",
       "      <th>...</th>\n",
       "      <td>...</td>\n",
       "      <td>...</td>\n",
       "      <td>...</td>\n",
       "      <td>...</td>\n",
       "      <td>...</td>\n",
       "      <td>...</td>\n",
       "      <td>...</td>\n",
       "      <td>...</td>\n",
       "      <td>...</td>\n",
       "      <td>...</td>\n",
       "      <td>...</td>\n",
       "      <td>...</td>\n",
       "      <td>...</td>\n",
       "      <td>...</td>\n",
       "      <td>...</td>\n",
       "      <td>...</td>\n",
       "      <td>...</td>\n",
       "      <td>...</td>\n",
       "      <td>...</td>\n",
       "    </tr>\n",
       "    <tr>\n",
       "      <th>13091</th>\n",
       "      <td>100</td>\n",
       "      <td>194</td>\n",
       "      <td>0.0049</td>\n",
       "      <td>0.0000</td>\n",
       "      <td>643.24</td>\n",
       "      <td>1599.45</td>\n",
       "      <td>1415.79</td>\n",
       "      <td>553.41</td>\n",
       "      <td>2388.02</td>\n",
       "      <td>9142.37</td>\n",
       "      <td>47.69</td>\n",
       "      <td>520.69</td>\n",
       "      <td>2388.00</td>\n",
       "      <td>8213.28</td>\n",
       "      <td>8.4715</td>\n",
       "      <td>394</td>\n",
       "      <td>38.65</td>\n",
       "      <td>23.1974</td>\n",
       "      <td>24</td>\n",
       "    </tr>\n",
       "    <tr>\n",
       "      <th>13092</th>\n",
       "      <td>100</td>\n",
       "      <td>195</td>\n",
       "      <td>-0.0011</td>\n",
       "      <td>-0.0001</td>\n",
       "      <td>643.22</td>\n",
       "      <td>1595.69</td>\n",
       "      <td>1422.05</td>\n",
       "      <td>553.22</td>\n",
       "      <td>2388.05</td>\n",
       "      <td>9140.68</td>\n",
       "      <td>47.60</td>\n",
       "      <td>521.05</td>\n",
       "      <td>2388.09</td>\n",
       "      <td>8210.85</td>\n",
       "      <td>8.4512</td>\n",
       "      <td>395</td>\n",
       "      <td>38.57</td>\n",
       "      <td>23.2771</td>\n",
       "      <td>23</td>\n",
       "    </tr>\n",
       "    <tr>\n",
       "      <th>13093</th>\n",
       "      <td>100</td>\n",
       "      <td>196</td>\n",
       "      <td>-0.0006</td>\n",
       "      <td>-0.0003</td>\n",
       "      <td>643.44</td>\n",
       "      <td>1593.15</td>\n",
       "      <td>1406.82</td>\n",
       "      <td>553.04</td>\n",
       "      <td>2388.11</td>\n",
       "      <td>9146.81</td>\n",
       "      <td>47.57</td>\n",
       "      <td>521.18</td>\n",
       "      <td>2388.04</td>\n",
       "      <td>8217.24</td>\n",
       "      <td>8.4569</td>\n",
       "      <td>395</td>\n",
       "      <td>38.62</td>\n",
       "      <td>23.2051</td>\n",
       "      <td>22</td>\n",
       "    </tr>\n",
       "    <tr>\n",
       "      <th>13094</th>\n",
       "      <td>100</td>\n",
       "      <td>197</td>\n",
       "      <td>-0.0038</td>\n",
       "      <td>0.0001</td>\n",
       "      <td>643.26</td>\n",
       "      <td>1594.99</td>\n",
       "      <td>1419.36</td>\n",
       "      <td>553.37</td>\n",
       "      <td>2388.07</td>\n",
       "      <td>9148.85</td>\n",
       "      <td>47.61</td>\n",
       "      <td>521.33</td>\n",
       "      <td>2388.08</td>\n",
       "      <td>8220.48</td>\n",
       "      <td>8.4711</td>\n",
       "      <td>395</td>\n",
       "      <td>38.66</td>\n",
       "      <td>23.2699</td>\n",
       "      <td>21</td>\n",
       "    </tr>\n",
       "    <tr>\n",
       "      <th>13095</th>\n",
       "      <td>100</td>\n",
       "      <td>198</td>\n",
       "      <td>0.0013</td>\n",
       "      <td>0.0003</td>\n",
       "      <td>642.95</td>\n",
       "      <td>1601.62</td>\n",
       "      <td>1424.99</td>\n",
       "      <td>552.48</td>\n",
       "      <td>2388.06</td>\n",
       "      <td>9155.03</td>\n",
       "      <td>47.80</td>\n",
       "      <td>521.07</td>\n",
       "      <td>2388.05</td>\n",
       "      <td>8214.64</td>\n",
       "      <td>8.4903</td>\n",
       "      <td>396</td>\n",
       "      <td>38.70</td>\n",
       "      <td>23.1855</td>\n",
       "      <td>20</td>\n",
       "    </tr>\n",
       "  </tbody>\n",
       "</table>\n",
       "<p>13096 rows × 19 columns</p>\n",
       "</div>"
      ],
      "text/plain": [
       "        id  cycle  settings_1  settings_2  sensor_2  sensor_3  sensor_4  \\\n",
       "0        1      1      0.0023      0.0003    643.02   1585.29   1398.21   \n",
       "1        1      2     -0.0027     -0.0003    641.71   1588.45   1395.42   \n",
       "2        1      3      0.0003      0.0001    642.46   1586.94   1401.34   \n",
       "3        1      4      0.0042      0.0000    642.44   1584.12   1406.42   \n",
       "4        1      5      0.0014      0.0000    642.51   1587.19   1401.92   \n",
       "...    ...    ...         ...         ...       ...       ...       ...   \n",
       "13091  100    194      0.0049      0.0000    643.24   1599.45   1415.79   \n",
       "13092  100    195     -0.0011     -0.0001    643.22   1595.69   1422.05   \n",
       "13093  100    196     -0.0006     -0.0003    643.44   1593.15   1406.82   \n",
       "13094  100    197     -0.0038      0.0001    643.26   1594.99   1419.36   \n",
       "13095  100    198      0.0013      0.0003    642.95   1601.62   1424.99   \n",
       "\n",
       "       sensor_7  sensor_8  sensor_9  sensor_11  sensor_12  sensor_13  \\\n",
       "0        553.90   2388.04   9050.17      47.20     521.72    2388.03   \n",
       "1        554.85   2388.01   9054.42      47.50     522.16    2388.06   \n",
       "2        554.11   2388.05   9056.96      47.50     521.97    2388.03   \n",
       "3        554.07   2388.03   9045.29      47.28     521.38    2388.05   \n",
       "4        554.16   2388.01   9044.55      47.31     522.15    2388.03   \n",
       "...         ...       ...       ...        ...        ...        ...   \n",
       "13091    553.41   2388.02   9142.37      47.69     520.69    2388.00   \n",
       "13092    553.22   2388.05   9140.68      47.60     521.05    2388.09   \n",
       "13093    553.04   2388.11   9146.81      47.57     521.18    2388.04   \n",
       "13094    553.37   2388.07   9148.85      47.61     521.33    2388.08   \n",
       "13095    552.48   2388.06   9155.03      47.80     521.07    2388.05   \n",
       "\n",
       "       sensor_14  sensor_15  sensor_17  sensor_20  sensor_21  rul  \n",
       "0        8125.55     8.4052        392      38.86    23.3735  142  \n",
       "1        8139.62     8.3803        393      39.02    23.3916  141  \n",
       "2        8130.10     8.4441        393      39.08    23.4166  140  \n",
       "3        8132.90     8.3917        391      39.00    23.3737  139  \n",
       "4        8129.54     8.4031        390      38.99    23.4130  138  \n",
       "...          ...        ...        ...        ...        ...  ...  \n",
       "13091    8213.28     8.4715        394      38.65    23.1974   24  \n",
       "13092    8210.85     8.4512        395      38.57    23.2771   23  \n",
       "13093    8217.24     8.4569        395      38.62    23.2051   22  \n",
       "13094    8220.48     8.4711        395      38.66    23.2699   21  \n",
       "13095    8214.64     8.4903        396      38.70    23.1855   20  \n",
       "\n",
       "[13096 rows x 19 columns]"
      ]
     },
     "execution_count": 5,
     "metadata": {},
     "output_type": "execute_result"
    }
   ],
   "source": [
    "test_df\n"
   ]
  },
  {
   "cell_type": "code",
   "execution_count": 6,
   "metadata": {},
   "outputs": [],
   "source": [
    "#_______Label2_______\n",
    "#normal (0)==> rul 30 cycle'dan fazla\n",
    "#uyarı (1)==> rul 15-30 arasi cycle\n",
    "#alarm (2)==> rul 15 cycle'dan daha az \n",
    "\n",
    "r_cycle0=15\n",
    "r_cycle1=30\n",
    "\n",
    "train_df['label1']=np.where(train_df['rul']<=r_cycle1, 1, 0)\n",
    "train_df['label2']=train_df['label1']\n",
    "train_df.loc[train_df['rul']<=r_cycle0,'label2']=2"
   ]
  },
  {
   "cell_type": "code",
   "execution_count": 7,
   "metadata": {},
   "outputs": [
    {
     "name": "stdout",
     "output_type": "stream",
     "text": [
      "   id  cycle  settings_1  settings_2  sensor_2  sensor_3  sensor_4  sensor_7  \\\n",
      "0   1      1    0.459770    0.166667  0.183735  0.406802  0.309757  0.726248   \n",
      "1   1      2    0.609195    0.250000  0.283133  0.453019  0.352633  0.628019   \n",
      "2   1      3    0.252874    0.750000  0.343373  0.369523  0.370527  0.710145   \n",
      "3   1      4    0.540230    0.500000  0.343373  0.256159  0.331195  0.740741   \n",
      "4   1      5    0.390805    0.333333  0.349398  0.257467  0.404625  0.668277   \n",
      "\n",
      "   sensor_8  sensor_9  ...  sensor_13  sensor_14  sensor_15  sensor_17  \\\n",
      "0  0.242424  0.109755  ...   0.205882   0.199608   0.363986   0.333333   \n",
      "1  0.212121  0.100242  ...   0.279412   0.162813   0.411312   0.333333   \n",
      "2  0.272727  0.140043  ...   0.220588   0.171793   0.357445   0.166667   \n",
      "3  0.318182  0.124518  ...   0.294118   0.174889   0.166603   0.333333   \n",
      "4  0.242424  0.149960  ...   0.235294   0.174734   0.402078   0.416667   \n",
      "\n",
      "   sensor_20  sensor_21  rul  label1  label2  cycle_norm  \n",
      "0   0.713178   0.724662  191       0       0     0.00000  \n",
      "1   0.666667   0.731014  190       0       0     0.00277  \n",
      "2   0.627907   0.621375  189       0       0     0.00554  \n",
      "3   0.573643   0.662386  188       0       0     0.00831  \n",
      "4   0.589147   0.704502  187       0       0     0.01108  \n",
      "\n",
      "[5 rows x 22 columns]\n",
      "None\n"
     ]
    }
   ],
   "source": [
    "# 0-1 normalization\n",
    "train_df['cycle_norm']=train_df['cycle']\n",
    "cols_normalize=train_df.columns.difference(['id','cycle','rul', 'label1','label2'])\n",
    "min_max_scaler=preprocessing.MinMaxScaler()\n",
    "norm_train_df=pd.DataFrame(min_max_scaler.fit_transform(train_df[cols_normalize]),\n",
    "                           columns=cols_normalize,\n",
    "                           index=train_df.index)\n",
    "train_join_df=train_df[train_df.columns.difference(cols_normalize)].join(norm_train_df)\n",
    "train_df=train_join_df.reindex(columns=train_df.columns)\n",
    "train_df=train_df.reset_index(drop=True)\n",
    "print(print(train_df.head()))"
   ]
  },
  {
   "cell_type": "code",
   "execution_count": 8,
   "metadata": {},
   "outputs": [
    {
     "name": "stdout",
     "output_type": "stream",
     "text": [
      "        id  cycle  settings_1  settings_2  sensor_2  sensor_3  sensor_4  \\\n",
      "20626  100    196    0.477011    0.250000  0.686747  0.587312  0.782917   \n",
      "20627  100    197    0.408046    0.083333  0.701807  0.729453  0.866475   \n",
      "20628  100    198    0.522989    0.500000  0.665663  0.684979  0.775321   \n",
      "20629  100    199    0.436782    0.750000  0.608434  0.746021  0.747468   \n",
      "20630  100    200    0.316092    0.083333  0.795181  0.639634  0.842167   \n",
      "\n",
      "       sensor_7  sensor_8  sensor_9  ...  sensor_13  sensor_14  sensor_15  \\\n",
      "20626  0.254428  0.439394  0.196491  ...   0.558824   0.194344   0.656791   \n",
      "20627  0.162641  0.500000  0.194651  ...   0.500000   0.188668   0.727203   \n",
      "20628  0.175523  0.515152  0.198196  ...   0.529412   0.212148   0.922278   \n",
      "20629  0.133655  0.530303  0.233285  ...   0.514706   0.203065   0.823394   \n",
      "20630  0.151369  0.545455  0.178363  ...   0.558824   0.192951   0.687572   \n",
      "\n",
      "       sensor_17  sensor_20  sensor_21  rul  label1  label2  cycle_norm  \n",
      "20626   0.750000   0.271318   0.109500    4       1       2    0.540166  \n",
      "20627   0.583333   0.124031   0.366197    3       1       2    0.542936  \n",
      "20628   0.833333   0.232558   0.053991    2       1       2    0.545706  \n",
      "20629   0.583333   0.116279   0.234466    1       1       2    0.548476  \n",
      "20630   0.666667   0.178295   0.218172    0       1       2    0.551247  \n",
      "\n",
      "[5 rows x 22 columns]\n"
     ]
    }
   ],
   "source": [
    "print(train_df.tail())"
   ]
  },
  {
   "cell_type": "code",
   "execution_count": 9,
   "metadata": {},
   "outputs": [],
   "source": [
    "#train_df.to_csv('generated/m_classifier/train_normalized.csv', encoding='utf-8',index = None)"
   ]
  },
  {
   "cell_type": "code",
   "execution_count": 10,
   "metadata": {},
   "outputs": [
    {
     "data": {
      "text/html": [
       "<div>\n",
       "<style scoped>\n",
       "    .dataframe tbody tr th:only-of-type {\n",
       "        vertical-align: middle;\n",
       "    }\n",
       "\n",
       "    .dataframe tbody tr th {\n",
       "        vertical-align: top;\n",
       "    }\n",
       "\n",
       "    .dataframe thead th {\n",
       "        text-align: right;\n",
       "    }\n",
       "</style>\n",
       "<table border=\"1\" class=\"dataframe\">\n",
       "  <thead>\n",
       "    <tr style=\"text-align: right;\">\n",
       "      <th></th>\n",
       "      <th>id</th>\n",
       "      <th>cycle</th>\n",
       "      <th>settings_1</th>\n",
       "      <th>settings_2</th>\n",
       "      <th>sensor_2</th>\n",
       "      <th>sensor_3</th>\n",
       "      <th>sensor_4</th>\n",
       "      <th>sensor_7</th>\n",
       "      <th>sensor_8</th>\n",
       "      <th>sensor_9</th>\n",
       "      <th>...</th>\n",
       "      <th>sensor_13</th>\n",
       "      <th>sensor_14</th>\n",
       "      <th>sensor_15</th>\n",
       "      <th>sensor_17</th>\n",
       "      <th>sensor_20</th>\n",
       "      <th>sensor_21</th>\n",
       "      <th>rul</th>\n",
       "      <th>label1</th>\n",
       "      <th>label2</th>\n",
       "      <th>cycle_norm</th>\n",
       "    </tr>\n",
       "  </thead>\n",
       "  <tbody>\n",
       "    <tr>\n",
       "      <th>0</th>\n",
       "      <td>1</td>\n",
       "      <td>1</td>\n",
       "      <td>0.459770</td>\n",
       "      <td>0.166667</td>\n",
       "      <td>0.183735</td>\n",
       "      <td>0.406802</td>\n",
       "      <td>0.309757</td>\n",
       "      <td>0.726248</td>\n",
       "      <td>0.242424</td>\n",
       "      <td>0.109755</td>\n",
       "      <td>...</td>\n",
       "      <td>0.205882</td>\n",
       "      <td>0.199608</td>\n",
       "      <td>0.363986</td>\n",
       "      <td>0.333333</td>\n",
       "      <td>0.713178</td>\n",
       "      <td>0.724662</td>\n",
       "      <td>191</td>\n",
       "      <td>0</td>\n",
       "      <td>0</td>\n",
       "      <td>0.000000</td>\n",
       "    </tr>\n",
       "    <tr>\n",
       "      <th>1</th>\n",
       "      <td>1</td>\n",
       "      <td>2</td>\n",
       "      <td>0.609195</td>\n",
       "      <td>0.250000</td>\n",
       "      <td>0.283133</td>\n",
       "      <td>0.453019</td>\n",
       "      <td>0.352633</td>\n",
       "      <td>0.628019</td>\n",
       "      <td>0.212121</td>\n",
       "      <td>0.100242</td>\n",
       "      <td>...</td>\n",
       "      <td>0.279412</td>\n",
       "      <td>0.162813</td>\n",
       "      <td>0.411312</td>\n",
       "      <td>0.333333</td>\n",
       "      <td>0.666667</td>\n",
       "      <td>0.731014</td>\n",
       "      <td>190</td>\n",
       "      <td>0</td>\n",
       "      <td>0</td>\n",
       "      <td>0.002770</td>\n",
       "    </tr>\n",
       "    <tr>\n",
       "      <th>2</th>\n",
       "      <td>1</td>\n",
       "      <td>3</td>\n",
       "      <td>0.252874</td>\n",
       "      <td>0.750000</td>\n",
       "      <td>0.343373</td>\n",
       "      <td>0.369523</td>\n",
       "      <td>0.370527</td>\n",
       "      <td>0.710145</td>\n",
       "      <td>0.272727</td>\n",
       "      <td>0.140043</td>\n",
       "      <td>...</td>\n",
       "      <td>0.220588</td>\n",
       "      <td>0.171793</td>\n",
       "      <td>0.357445</td>\n",
       "      <td>0.166667</td>\n",
       "      <td>0.627907</td>\n",
       "      <td>0.621375</td>\n",
       "      <td>189</td>\n",
       "      <td>0</td>\n",
       "      <td>0</td>\n",
       "      <td>0.005540</td>\n",
       "    </tr>\n",
       "    <tr>\n",
       "      <th>3</th>\n",
       "      <td>1</td>\n",
       "      <td>4</td>\n",
       "      <td>0.540230</td>\n",
       "      <td>0.500000</td>\n",
       "      <td>0.343373</td>\n",
       "      <td>0.256159</td>\n",
       "      <td>0.331195</td>\n",
       "      <td>0.740741</td>\n",
       "      <td>0.318182</td>\n",
       "      <td>0.124518</td>\n",
       "      <td>...</td>\n",
       "      <td>0.294118</td>\n",
       "      <td>0.174889</td>\n",
       "      <td>0.166603</td>\n",
       "      <td>0.333333</td>\n",
       "      <td>0.573643</td>\n",
       "      <td>0.662386</td>\n",
       "      <td>188</td>\n",
       "      <td>0</td>\n",
       "      <td>0</td>\n",
       "      <td>0.008310</td>\n",
       "    </tr>\n",
       "    <tr>\n",
       "      <th>4</th>\n",
       "      <td>1</td>\n",
       "      <td>5</td>\n",
       "      <td>0.390805</td>\n",
       "      <td>0.333333</td>\n",
       "      <td>0.349398</td>\n",
       "      <td>0.257467</td>\n",
       "      <td>0.404625</td>\n",
       "      <td>0.668277</td>\n",
       "      <td>0.242424</td>\n",
       "      <td>0.149960</td>\n",
       "      <td>...</td>\n",
       "      <td>0.235294</td>\n",
       "      <td>0.174734</td>\n",
       "      <td>0.402078</td>\n",
       "      <td>0.416667</td>\n",
       "      <td>0.589147</td>\n",
       "      <td>0.704502</td>\n",
       "      <td>187</td>\n",
       "      <td>0</td>\n",
       "      <td>0</td>\n",
       "      <td>0.011080</td>\n",
       "    </tr>\n",
       "    <tr>\n",
       "      <th>...</th>\n",
       "      <td>...</td>\n",
       "      <td>...</td>\n",
       "      <td>...</td>\n",
       "      <td>...</td>\n",
       "      <td>...</td>\n",
       "      <td>...</td>\n",
       "      <td>...</td>\n",
       "      <td>...</td>\n",
       "      <td>...</td>\n",
       "      <td>...</td>\n",
       "      <td>...</td>\n",
       "      <td>...</td>\n",
       "      <td>...</td>\n",
       "      <td>...</td>\n",
       "      <td>...</td>\n",
       "      <td>...</td>\n",
       "      <td>...</td>\n",
       "      <td>...</td>\n",
       "      <td>...</td>\n",
       "      <td>...</td>\n",
       "      <td>...</td>\n",
       "    </tr>\n",
       "    <tr>\n",
       "      <th>20626</th>\n",
       "      <td>100</td>\n",
       "      <td>196</td>\n",
       "      <td>0.477011</td>\n",
       "      <td>0.250000</td>\n",
       "      <td>0.686747</td>\n",
       "      <td>0.587312</td>\n",
       "      <td>0.782917</td>\n",
       "      <td>0.254428</td>\n",
       "      <td>0.439394</td>\n",
       "      <td>0.196491</td>\n",
       "      <td>...</td>\n",
       "      <td>0.558824</td>\n",
       "      <td>0.194344</td>\n",
       "      <td>0.656791</td>\n",
       "      <td>0.750000</td>\n",
       "      <td>0.271318</td>\n",
       "      <td>0.109500</td>\n",
       "      <td>4</td>\n",
       "      <td>1</td>\n",
       "      <td>2</td>\n",
       "      <td>0.540166</td>\n",
       "    </tr>\n",
       "    <tr>\n",
       "      <th>20627</th>\n",
       "      <td>100</td>\n",
       "      <td>197</td>\n",
       "      <td>0.408046</td>\n",
       "      <td>0.083333</td>\n",
       "      <td>0.701807</td>\n",
       "      <td>0.729453</td>\n",
       "      <td>0.866475</td>\n",
       "      <td>0.162641</td>\n",
       "      <td>0.500000</td>\n",
       "      <td>0.194651</td>\n",
       "      <td>...</td>\n",
       "      <td>0.500000</td>\n",
       "      <td>0.188668</td>\n",
       "      <td>0.727203</td>\n",
       "      <td>0.583333</td>\n",
       "      <td>0.124031</td>\n",
       "      <td>0.366197</td>\n",
       "      <td>3</td>\n",
       "      <td>1</td>\n",
       "      <td>2</td>\n",
       "      <td>0.542936</td>\n",
       "    </tr>\n",
       "    <tr>\n",
       "      <th>20628</th>\n",
       "      <td>100</td>\n",
       "      <td>198</td>\n",
       "      <td>0.522989</td>\n",
       "      <td>0.500000</td>\n",
       "      <td>0.665663</td>\n",
       "      <td>0.684979</td>\n",
       "      <td>0.775321</td>\n",
       "      <td>0.175523</td>\n",
       "      <td>0.515152</td>\n",
       "      <td>0.198196</td>\n",
       "      <td>...</td>\n",
       "      <td>0.529412</td>\n",
       "      <td>0.212148</td>\n",
       "      <td>0.922278</td>\n",
       "      <td>0.833333</td>\n",
       "      <td>0.232558</td>\n",
       "      <td>0.053991</td>\n",
       "      <td>2</td>\n",
       "      <td>1</td>\n",
       "      <td>2</td>\n",
       "      <td>0.545706</td>\n",
       "    </tr>\n",
       "    <tr>\n",
       "      <th>20629</th>\n",
       "      <td>100</td>\n",
       "      <td>199</td>\n",
       "      <td>0.436782</td>\n",
       "      <td>0.750000</td>\n",
       "      <td>0.608434</td>\n",
       "      <td>0.746021</td>\n",
       "      <td>0.747468</td>\n",
       "      <td>0.133655</td>\n",
       "      <td>0.530303</td>\n",
       "      <td>0.233285</td>\n",
       "      <td>...</td>\n",
       "      <td>0.514706</td>\n",
       "      <td>0.203065</td>\n",
       "      <td>0.823394</td>\n",
       "      <td>0.583333</td>\n",
       "      <td>0.116279</td>\n",
       "      <td>0.234466</td>\n",
       "      <td>1</td>\n",
       "      <td>1</td>\n",
       "      <td>2</td>\n",
       "      <td>0.548476</td>\n",
       "    </tr>\n",
       "    <tr>\n",
       "      <th>20630</th>\n",
       "      <td>100</td>\n",
       "      <td>200</td>\n",
       "      <td>0.316092</td>\n",
       "      <td>0.083333</td>\n",
       "      <td>0.795181</td>\n",
       "      <td>0.639634</td>\n",
       "      <td>0.842167</td>\n",
       "      <td>0.151369</td>\n",
       "      <td>0.545455</td>\n",
       "      <td>0.178363</td>\n",
       "      <td>...</td>\n",
       "      <td>0.558824</td>\n",
       "      <td>0.192951</td>\n",
       "      <td>0.687572</td>\n",
       "      <td>0.666667</td>\n",
       "      <td>0.178295</td>\n",
       "      <td>0.218172</td>\n",
       "      <td>0</td>\n",
       "      <td>1</td>\n",
       "      <td>2</td>\n",
       "      <td>0.551247</td>\n",
       "    </tr>\n",
       "  </tbody>\n",
       "</table>\n",
       "<p>20631 rows × 22 columns</p>\n",
       "</div>"
      ],
      "text/plain": [
       "        id  cycle  settings_1  settings_2  sensor_2  sensor_3  sensor_4  \\\n",
       "0        1      1    0.459770    0.166667  0.183735  0.406802  0.309757   \n",
       "1        1      2    0.609195    0.250000  0.283133  0.453019  0.352633   \n",
       "2        1      3    0.252874    0.750000  0.343373  0.369523  0.370527   \n",
       "3        1      4    0.540230    0.500000  0.343373  0.256159  0.331195   \n",
       "4        1      5    0.390805    0.333333  0.349398  0.257467  0.404625   \n",
       "...    ...    ...         ...         ...       ...       ...       ...   \n",
       "20626  100    196    0.477011    0.250000  0.686747  0.587312  0.782917   \n",
       "20627  100    197    0.408046    0.083333  0.701807  0.729453  0.866475   \n",
       "20628  100    198    0.522989    0.500000  0.665663  0.684979  0.775321   \n",
       "20629  100    199    0.436782    0.750000  0.608434  0.746021  0.747468   \n",
       "20630  100    200    0.316092    0.083333  0.795181  0.639634  0.842167   \n",
       "\n",
       "       sensor_7  sensor_8  sensor_9  ...  sensor_13  sensor_14  sensor_15  \\\n",
       "0      0.726248  0.242424  0.109755  ...   0.205882   0.199608   0.363986   \n",
       "1      0.628019  0.212121  0.100242  ...   0.279412   0.162813   0.411312   \n",
       "2      0.710145  0.272727  0.140043  ...   0.220588   0.171793   0.357445   \n",
       "3      0.740741  0.318182  0.124518  ...   0.294118   0.174889   0.166603   \n",
       "4      0.668277  0.242424  0.149960  ...   0.235294   0.174734   0.402078   \n",
       "...         ...       ...       ...  ...        ...        ...        ...   \n",
       "20626  0.254428  0.439394  0.196491  ...   0.558824   0.194344   0.656791   \n",
       "20627  0.162641  0.500000  0.194651  ...   0.500000   0.188668   0.727203   \n",
       "20628  0.175523  0.515152  0.198196  ...   0.529412   0.212148   0.922278   \n",
       "20629  0.133655  0.530303  0.233285  ...   0.514706   0.203065   0.823394   \n",
       "20630  0.151369  0.545455  0.178363  ...   0.558824   0.192951   0.687572   \n",
       "\n",
       "       sensor_17  sensor_20  sensor_21  rul  label1  label2  cycle_norm  \n",
       "0       0.333333   0.713178   0.724662  191       0       0    0.000000  \n",
       "1       0.333333   0.666667   0.731014  190       0       0    0.002770  \n",
       "2       0.166667   0.627907   0.621375  189       0       0    0.005540  \n",
       "3       0.333333   0.573643   0.662386  188       0       0    0.008310  \n",
       "4       0.416667   0.589147   0.704502  187       0       0    0.011080  \n",
       "...          ...        ...        ...  ...     ...     ...         ...  \n",
       "20626   0.750000   0.271318   0.109500    4       1       2    0.540166  \n",
       "20627   0.583333   0.124031   0.366197    3       1       2    0.542936  \n",
       "20628   0.833333   0.232558   0.053991    2       1       2    0.545706  \n",
       "20629   0.583333   0.116279   0.234466    1       1       2    0.548476  \n",
       "20630   0.666667   0.178295   0.218172    0       1       2    0.551247  \n",
       "\n",
       "[20631 rows x 22 columns]"
      ]
     },
     "execution_count": 10,
     "metadata": {},
     "output_type": "execute_result"
    }
   ],
   "source": [
    "train_df"
   ]
  },
  {
   "cell_type": "code",
   "execution_count": 11,
   "metadata": {},
   "outputs": [],
   "source": [
    "#_______Label2_______\n",
    "#normal (0)==> rul 30 cycle'dan fazla\n",
    "#uyarı (1)==> rul 15-30 arasi cycle\n",
    "#alarm (2)==> rul 15 cycle'dan daha az \n",
    "\n",
    "test_df['label1']=np.where(test_df['rul']<=r_cycle1,1,0)\n",
    "test_df['label2']=test_df['label1']\n",
    "test_df.loc[test_df['rul']<=r_cycle0, 'label2']=2\n"
   ]
  },
  {
   "cell_type": "code",
   "execution_count": 12,
   "metadata": {},
   "outputs": [
    {
     "name": "stdout",
     "output_type": "stream",
     "text": [
      "   id  cycle  settings_1  settings_2  sensor_2  sensor_3  sensor_4  sensor_7  \\\n",
      "0   1      1    0.632184    0.750000  0.545181  0.310661  0.269413  0.652174   \n",
      "1   1      2    0.344828    0.250000  0.150602  0.379551  0.222316  0.805153   \n",
      "2   1      3    0.517241    0.583333  0.376506  0.346632  0.322248  0.685990   \n",
      "3   1      4    0.741379    0.500000  0.370482  0.285154  0.408001  0.679549   \n",
      "4   1      5    0.580460    0.500000  0.391566  0.352082  0.332039  0.694042   \n",
      "\n",
      "   sensor_8  sensor_9  ...  sensor_13  sensor_14  sensor_15  sensor_17  \\\n",
      "0  0.212121  0.127614  ...   0.220588   0.132160   0.308965   0.333333   \n",
      "1  0.166667  0.146684  ...   0.264706   0.204768   0.213159   0.416667   \n",
      "2  0.227273  0.158081  ...   0.220588   0.155640   0.458638   0.416667   \n",
      "3  0.196970  0.105717  ...   0.250000   0.170090   0.257022   0.250000   \n",
      "4  0.166667  0.102396  ...   0.220588   0.152751   0.300885   0.166667   \n",
      "\n",
      "   sensor_20  sensor_21  rul  label1  label2  cycle_norm  \n",
      "0   0.558140   0.661834  142       0       0     0.00000  \n",
      "1   0.682171   0.686827  141       0       0     0.00277  \n",
      "2   0.728682   0.721348  140       0       0     0.00554  \n",
      "3   0.666667   0.662110  139       0       0     0.00831  \n",
      "4   0.658915   0.716377  138       0       0     0.01108  \n",
      "\n",
      "[5 rows x 22 columns]\n"
     ]
    }
   ],
   "source": [
    "#test dataseti icin 0-1 normalization\n",
    "\n",
    "test_df['cycle_norm']=test_df['cycle']\n",
    "norm_test_df=pd.DataFrame(min_max_scaler.transform(test_df[cols_normalize]),\n",
    "                          columns=cols_normalize,\n",
    "                          index=test_df.index)\n",
    "test_join_df=test_df[test_df.columns.difference(cols_normalize)].join(norm_test_df)\n",
    "test_df=test_join_df.reindex(columns=test_df.columns)\n",
    "test_df=test_df.reset_index(drop=True)\n",
    "print(test_df.head())"
   ]
  },
  {
   "cell_type": "code",
   "execution_count": 13,
   "metadata": {},
   "outputs": [
    {
     "name": "stdout",
     "output_type": "stream",
     "text": [
      "        id  cycle  settings_1  settings_2  sensor_2  sensor_3  sensor_4  \\\n",
      "13091  100    194    0.781609    0.500000  0.611446  0.619359  0.566172   \n",
      "13092  100    195    0.436782    0.416667  0.605422  0.537388  0.671843   \n",
      "13093  100    196    0.465517    0.250000  0.671687  0.482014  0.414754   \n",
      "13094  100    197    0.281609    0.583333  0.617470  0.522128  0.626435   \n",
      "13095  100    198    0.574713    0.750000  0.524096  0.666667  0.721472   \n",
      "\n",
      "       sensor_7  sensor_8  sensor_9  ...  sensor_13  sensor_14  sensor_15  \\\n",
      "13091  0.573269  0.181818  0.541326  ...   0.176471   0.584890   0.564063   \n",
      "13092  0.542673  0.227273  0.533743  ...   0.308824   0.572350   0.485956   \n",
      "13093  0.513688  0.318182  0.561249  ...   0.235294   0.605326   0.507888   \n",
      "13094  0.566828  0.257576  0.570403  ...   0.294118   0.622046   0.562524   \n",
      "13095  0.423510  0.242424  0.598133  ...   0.250000   0.591908   0.636399   \n",
      "\n",
      "       sensor_17  sensor_20  sensor_21  rul  label1  label2  cycle_norm  \n",
      "13091   0.500000   0.395349   0.418669   24       1       1    0.534626  \n",
      "13092   0.583333   0.333333   0.528721   23       1       1    0.537396  \n",
      "13093   0.583333   0.372093   0.429301   22       1       1    0.540166  \n",
      "13094   0.583333   0.403101   0.518779   21       1       1    0.542936  \n",
      "13095   0.666667   0.434109   0.402237   20       1       1    0.545706  \n",
      "\n",
      "[5 rows x 22 columns]\n"
     ]
    }
   ],
   "source": [
    "print(test_df.tail())"
   ]
  },
  {
   "cell_type": "code",
   "execution_count": 14,
   "metadata": {},
   "outputs": [],
   "source": [
    "#test_df.to_csv('generated/m_classifier/test_normalized.csv', encoding='utf-8',index = None)"
   ]
  },
  {
   "cell_type": "code",
   "execution_count": null,
   "metadata": {},
   "outputs": [],
   "source": []
  },
  {
   "cell_type": "code",
   "execution_count": 15,
   "metadata": {},
   "outputs": [],
   "source": [
    "sequence_length=50"
   ]
  },
  {
   "cell_type": "code",
   "execution_count": 16,
   "metadata": {},
   "outputs": [],
   "source": [
    "sensor_cols=['sensor_'+str(i) for i in range(1,22)]\n",
    "sequence_cols=['settings_1','settings_2','settings_3','cycle_norm']\n",
    "sequence_cols.extend(sensor_cols)"
   ]
  },
  {
   "cell_type": "code",
   "execution_count": 17,
   "metadata": {},
   "outputs": [],
   "source": [
    "def gen_sequence(id_df, seq_length, seq_cols):\n",
    "    data_matrix=id_df[seq_cols].values\n",
    "    num_elements=data_matrix.shape[0]\n",
    "    print(data_matrix.shape)\n",
    "    \n",
    "    for start, stop in zip(range(0, num_elements-seq_length), range(seq_length, num_elements)):\n",
    "        yield data_matrix[start:stop, :]\n",
    "    "
   ]
  },
  {
   "cell_type": "code",
   "execution_count": 18,
   "metadata": {},
   "outputs": [],
   "source": [
    "# bagimsiz degiskenleri sec\n",
    "\n",
    "sensor_cols=['sensor_2', 'sensor_3', 'sensor_4', \n",
    "             'sensor_7', 'sensor_8','sensor_9',\n",
    "             'sensor_11','sensor_12','sensor_13', \n",
    "             'sensor_14', 'sensor_15', 'sensor_17',\n",
    "             'sensor_20',]\n",
    "\n",
    "sequence_cols=['settings_1','settings_2','cycle_norm']\n",
    "\n",
    "sequence_cols.extend(sensor_cols)"
   ]
  },
  {
   "cell_type": "code",
   "execution_count": 19,
   "metadata": {},
   "outputs": [
    {
     "name": "stdout",
     "output_type": "stream",
     "text": [
      "(192, 16)\n",
      "(287, 16)\n",
      "(179, 16)\n",
      "(189, 16)\n",
      "(269, 16)\n",
      "(188, 16)\n",
      "(259, 16)\n",
      "(150, 16)\n",
      "(201, 16)\n",
      "(222, 16)\n",
      "(240, 16)\n",
      "(170, 16)\n",
      "(163, 16)\n",
      "(180, 16)\n",
      "(207, 16)\n",
      "(209, 16)\n",
      "(276, 16)\n",
      "(195, 16)\n",
      "(158, 16)\n",
      "(234, 16)\n",
      "(195, 16)\n",
      "(202, 16)\n",
      "(168, 16)\n",
      "(147, 16)\n",
      "(230, 16)\n",
      "(199, 16)\n",
      "(156, 16)\n",
      "(165, 16)\n",
      "(163, 16)\n",
      "(194, 16)\n",
      "(234, 16)\n",
      "(191, 16)\n",
      "(200, 16)\n",
      "(195, 16)\n",
      "(181, 16)\n",
      "(158, 16)\n",
      "(170, 16)\n",
      "(194, 16)\n",
      "(128, 16)\n",
      "(188, 16)\n",
      "(216, 16)\n",
      "(196, 16)\n",
      "(207, 16)\n",
      "(192, 16)\n",
      "(158, 16)\n",
      "(256, 16)\n",
      "(214, 16)\n",
      "(231, 16)\n",
      "(215, 16)\n",
      "(198, 16)\n",
      "(213, 16)\n",
      "(213, 16)\n",
      "(195, 16)\n",
      "(257, 16)\n",
      "(193, 16)\n",
      "(275, 16)\n",
      "(137, 16)\n",
      "(147, 16)\n",
      "(231, 16)\n",
      "(172, 16)\n",
      "(185, 16)\n",
      "(180, 16)\n",
      "(174, 16)\n",
      "(283, 16)\n",
      "(153, 16)\n",
      "(202, 16)\n",
      "(313, 16)\n",
      "(199, 16)\n",
      "(362, 16)\n",
      "(137, 16)\n",
      "(208, 16)\n",
      "(213, 16)\n",
      "(213, 16)\n",
      "(166, 16)\n",
      "(229, 16)\n",
      "(210, 16)\n",
      "(154, 16)\n",
      "(231, 16)\n",
      "(199, 16)\n",
      "(185, 16)\n",
      "(240, 16)\n",
      "(214, 16)\n",
      "(293, 16)\n",
      "(267, 16)\n",
      "(188, 16)\n",
      "(278, 16)\n",
      "(178, 16)\n",
      "(213, 16)\n",
      "(217, 16)\n",
      "(154, 16)\n",
      "(135, 16)\n",
      "(341, 16)\n",
      "(155, 16)\n",
      "(258, 16)\n",
      "(283, 16)\n",
      "(336, 16)\n",
      "(202, 16)\n",
      "(156, 16)\n",
      "(185, 16)\n",
      "(200, 16)\n"
     ]
    },
    {
     "data": {
      "text/plain": [
       "(15631, 50, 16)"
      ]
     },
     "execution_count": 19,
     "metadata": {},
     "output_type": "execute_result"
    }
   ],
   "source": [
    "#sequence generator\n",
    "\n",
    "seq_gen=(list(gen_sequence(train_df[train_df['id']==id], sequence_length, sequence_cols))\n",
    "        for id in train_df['id'].unique())\n",
    "\n",
    "#convert sequence to numpy array                       =Train Vektoru=\n",
    "seq_array=np.concatenate(list(seq_gen)).astype(np.float32)\n",
    "seq_array.shape\n",
    "\n",
    "#toplam == 20631. seq_lenth==50 -->  50*100(motor)=5000 --> 20631-5000=15631"
   ]
  },
  {
   "cell_type": "code",
   "execution_count": 20,
   "metadata": {},
   "outputs": [
    {
     "data": {
      "text/plain": [
       "(15631, 1)"
      ]
     },
     "execution_count": 20,
     "metadata": {},
     "output_type": "execute_result"
    }
   ],
   "source": [
    "#generate labels ==target(bagimli) variable            =Test Vektoru=\n",
    "\n",
    "def gen_labels(id_df, seq_lenth, label):\n",
    "    data_matrix=id_df[label].values\n",
    "    num_elements=data_matrix.shape[0]\n",
    "    return data_matrix[seq_lenth:num_elements, :]\n",
    "\n",
    "label_gen=[gen_labels(train_df[train_df['id']==id], sequence_length, ['label2'])\n",
    "          for id in train_df['id'].unique()]\n",
    "\n",
    "label_array=np.concatenate(label_gen).astype(np.float32)\n",
    "#print(label_array)\n",
    "label_array.shape"
   ]
  },
  {
   "cell_type": "code",
   "execution_count": 47,
   "metadata": {},
   "outputs": [
    {
     "data": {
      "text/plain": [
       "array([[0.],\n",
       "       [0.],\n",
       "       [0.],\n",
       "       ...,\n",
       "       [2.],\n",
       "       [2.],\n",
       "       [2.]], dtype=float32)"
      ]
     },
     "execution_count": 47,
     "metadata": {},
     "output_type": "execute_result"
    }
   ],
   "source": [
    "label_array"
   ]
  },
  {
   "cell_type": "code",
   "execution_count": 21,
   "metadata": {},
   "outputs": [
    {
     "data": {
      "text/plain": [
       "0.0    12531\n",
       "2.0     1600\n",
       "1.0     1500\n",
       "dtype: int64"
      ]
     },
     "execution_count": 21,
     "metadata": {},
     "output_type": "execute_result"
    }
   ],
   "source": [
    "test = pd.DataFrame(label_array)\n",
    "test.value_counts()"
   ]
  },
  {
   "cell_type": "code",
   "execution_count": 55,
   "metadata": {},
   "outputs": [
    {
     "name": "stdout",
     "output_type": "stream",
     "text": [
      "Model: \"sequential_1\"\n",
      "_________________________________________________________________\n",
      "Layer (type)                 Output Shape              Param #   \n",
      "=================================================================\n",
      "lstm_2 (LSTM)                (None, 50, 150)           100200    \n",
      "_________________________________________________________________\n",
      "dropout_2 (Dropout)          (None, 50, 150)           0         \n",
      "_________________________________________________________________\n",
      "lstm_3 (LSTM)                (None, 100)               100400    \n",
      "_________________________________________________________________\n",
      "dropout_3 (Dropout)          (None, 100)               0         \n",
      "_________________________________________________________________\n",
      "dense_1 (Dense)              (None, 3)                 303       \n",
      "=================================================================\n",
      "Total params: 200,903\n",
      "Trainable params: 200,903\n",
      "Non-trainable params: 0\n",
      "_________________________________________________________________\n",
      "None\n"
     ]
    }
   ],
   "source": [
    "\n",
    "nb_features=seq_array.shape[2]\n",
    "nb_out=label_array.shape[1]\n",
    "\n",
    "model=Sequential()\n",
    "\n",
    "model.add(LSTM(input_shape=(sequence_length, nb_features),\n",
    "               units=150,\n",
    "               return_sequences=True))\n",
    "model.add(Dropout(0.2))\n",
    "\n",
    "model.add(LSTM(units=100,\n",
    "               return_sequences=False))\n",
    "model.add(Dropout(0.2))\n",
    "\n",
    "model.add(Dense(3, activation='sigmoid'))\n",
    "\n",
    "model.compile(loss='sparse_categorical_crossentropy', optimizer='adam', metrics=['accuracy'])\n",
    "\n",
    "print(model.summary())\n"
   ]
  },
  {
   "cell_type": "code",
   "execution_count": 56,
   "metadata": {},
   "outputs": [
    {
     "name": "stderr",
     "output_type": "stream",
     "text": [
      "C:\\Users\\meeri\\anaconda3\\lib\\site-packages\\sklearn\\utils\\validation.py:63: DataConversionWarning: A column-vector y was passed when a 1d array was expected. Please change the shape of y to (n_samples, ), for example using ravel().\n",
      "  return f(*args, **kwargs)\n"
     ]
    },
    {
     "data": {
      "text/plain": [
       "{0.0: 0.41579549384193865, 1.0: 3.4735555555555555, 2.0: 3.2564583333333332}"
      ]
     },
     "execution_count": 56,
     "metadata": {},
     "output_type": "execute_result"
    }
   ],
   "source": [
    "class_weights = class_weight.compute_class_weight(\n",
    "                                        class_weight = \"balanced\",\n",
    "                                        classes = np.unique(test),\n",
    "                                        y = test                                                    \n",
    "                                    )\n",
    "class_weights = dict(zip(np.unique(test), class_weights))\n",
    "class_weights"
   ]
  },
  {
   "cell_type": "code",
   "execution_count": 57,
   "metadata": {},
   "outputs": [
    {
     "name": "stdout",
     "output_type": "stream",
     "text": [
      "WARNING:tensorflow:From C:\\Users\\meeri\\AppData\\Roaming\\Python\\Python38\\site-packages\\tensorflow\\python\\ops\\array_ops.py:5043: calling gather (from tensorflow.python.ops.array_ops) with validate_indices is deprecated and will be removed in a future version.\n",
      "Instructions for updating:\n",
      "The `validate_indices` argument has no effect. Indices are always validated on CPU and never validated on GPU.\n",
      "Epoch 1/40\n",
      "75/75 - 27s - loss: 0.6050 - accuracy: 0.7860 - val_loss: 0.2541 - val_accuracy: 0.9041\n",
      "Epoch 2/40\n",
      "75/75 - 22s - loss: 0.2996 - accuracy: 0.9034 - val_loss: 0.1915 - val_accuracy: 0.9156\n",
      "Epoch 3/40\n",
      "75/75 - 22s - loss: 0.2794 - accuracy: 0.9125 - val_loss: 0.1565 - val_accuracy: 0.9386\n",
      "Epoch 4/40\n",
      "75/75 - 22s - loss: 0.2080 - accuracy: 0.9328 - val_loss: 0.1402 - val_accuracy: 0.9386\n",
      "Epoch 5/40\n",
      "75/75 - 26s - loss: 0.2163 - accuracy: 0.9306 - val_loss: 0.1086 - val_accuracy: 0.9476\n",
      "Epoch 6/40\n",
      "75/75 - 26s - loss: 0.2104 - accuracy: 0.9298 - val_loss: 0.1014 - val_accuracy: 0.9616\n",
      "Epoch 7/40\n",
      "75/75 - 24s - loss: 0.1837 - accuracy: 0.9416 - val_loss: 0.0986 - val_accuracy: 0.9578\n",
      "Epoch 8/40\n",
      "75/75 - 22s - loss: 0.1904 - accuracy: 0.9371 - val_loss: 0.1237 - val_accuracy: 0.9399\n",
      "Epoch 9/40\n",
      "75/75 - 21s - loss: 0.1716 - accuracy: 0.9427 - val_loss: 0.3271 - val_accuracy: 0.8849\n",
      "Epoch 10/40\n",
      "75/75 - 22s - loss: 0.2214 - accuracy: 0.9265 - val_loss: 0.1623 - val_accuracy: 0.9233\n",
      "Epoch 11/40\n",
      "75/75 - 22s - loss: 0.1886 - accuracy: 0.9367 - val_loss: 0.1411 - val_accuracy: 0.9373\n",
      "Epoch 12/40\n",
      "75/75 - 22s - loss: 0.1775 - accuracy: 0.9410 - val_loss: 0.1347 - val_accuracy: 0.9386\n",
      "Epoch 13/40\n",
      "75/75 - 22s - loss: 0.1647 - accuracy: 0.9463 - val_loss: 0.0910 - val_accuracy: 0.9629\n",
      "Epoch 14/40\n",
      "75/75 - 22s - loss: 0.1648 - accuracy: 0.9459 - val_loss: 0.1038 - val_accuracy: 0.9514\n",
      "Epoch 15/40\n",
      "75/75 - 22s - loss: 0.1622 - accuracy: 0.9478 - val_loss: 0.1993 - val_accuracy: 0.9284\n",
      "Epoch 16/40\n",
      "75/75 - 21s - loss: 0.1747 - accuracy: 0.9419 - val_loss: 0.1374 - val_accuracy: 0.9386\n",
      "Epoch 17/40\n",
      "75/75 - 23s - loss: 0.1558 - accuracy: 0.9489 - val_loss: 0.0948 - val_accuracy: 0.9591\n",
      "Epoch 18/40\n",
      "75/75 - 21s - loss: 0.1599 - accuracy: 0.9467 - val_loss: 0.1233 - val_accuracy: 0.9437\n",
      "Epoch 19/40\n",
      "75/75 - 21s - loss: 0.1488 - accuracy: 0.9516 - val_loss: 0.1441 - val_accuracy: 0.9527\n",
      "Epoch 20/40\n",
      "75/75 - 22s - loss: 0.1576 - accuracy: 0.9476 - val_loss: 0.0933 - val_accuracy: 0.9578\n",
      "Epoch 21/40\n",
      "75/75 - 21s - loss: 0.1468 - accuracy: 0.9503 - val_loss: 0.0864 - val_accuracy: 0.9578\n",
      "Epoch 22/40\n",
      "75/75 - 21s - loss: 0.1583 - accuracy: 0.9483 - val_loss: 0.2100 - val_accuracy: 0.9258\n",
      "Epoch 23/40\n",
      "75/75 - 23s - loss: 0.1785 - accuracy: 0.9425 - val_loss: 0.1239 - val_accuracy: 0.9463\n",
      "Epoch 24/40\n",
      "75/75 - 24s - loss: 0.1443 - accuracy: 0.9529 - val_loss: 0.0817 - val_accuracy: 0.9706\n",
      "Epoch 25/40\n",
      "75/75 - 22s - loss: 0.1557 - accuracy: 0.9488 - val_loss: 0.0879 - val_accuracy: 0.9616\n",
      "Epoch 26/40\n",
      "75/75 - 23s - loss: 0.1353 - accuracy: 0.9578 - val_loss: 0.0984 - val_accuracy: 0.9540\n",
      "Epoch 27/40\n",
      "75/75 - 22s - loss: 0.1475 - accuracy: 0.9534 - val_loss: 0.0934 - val_accuracy: 0.9655\n",
      "Epoch 28/40\n",
      "75/75 - 22s - loss: 0.1448 - accuracy: 0.9542 - val_loss: 0.1490 - val_accuracy: 0.9373\n",
      "Epoch 29/40\n",
      "75/75 - 22s - loss: 0.1360 - accuracy: 0.9537 - val_loss: 0.1082 - val_accuracy: 0.9488\n",
      "Epoch 30/40\n",
      "75/75 - 21s - loss: 0.1474 - accuracy: 0.9541 - val_loss: 0.1289 - val_accuracy: 0.9527\n",
      "Epoch 31/40\n",
      "75/75 - 22s - loss: 0.1447 - accuracy: 0.9529 - val_loss: 0.0870 - val_accuracy: 0.9591\n",
      "Epoch 32/40\n",
      "75/75 - 24s - loss: 0.1377 - accuracy: 0.9525 - val_loss: 0.1105 - val_accuracy: 0.9578\n",
      "Epoch 33/40\n",
      "75/75 - 24s - loss: 0.1334 - accuracy: 0.9576 - val_loss: 0.0894 - val_accuracy: 0.9604\n",
      "Epoch 34/40\n",
      "75/75 - 21s - loss: 0.1243 - accuracy: 0.9587 - val_loss: 0.1299 - val_accuracy: 0.9476\n"
     ]
    }
   ],
   "source": [
    "#fit the network\n",
    "#history=model.fit(seq_array, label_array, batch_size=200, epochs=50, validation_data=(y_train, y_test))\n",
    "history=model.fit(seq_array, label_array, epochs=40, batch_size=200, validation_split=0.05, verbose=2, class_weight=class_weights,\n",
    "                  callbacks=[keras.callbacks.EarlyStopping(monitor='val_loss', min_delta=0, patience=10, verbose=0, mode='min'),\n",
    "                             keras.callbacks.ModelCheckpoint(model_path, monitor='val_loss', save_best_only=True, mode='min', verbose=0)]\n",
    "                 )"
   ]
  },
  {
   "cell_type": "code",
   "execution_count": null,
   "metadata": {},
   "outputs": [],
   "source": []
  },
  {
   "cell_type": "code",
   "execution_count": 58,
   "metadata": {},
   "outputs": [
    {
     "name": "stdout",
     "output_type": "stream",
     "text": [
      "dict_keys(['loss', 'accuracy', 'val_loss', 'val_accuracy'])\n"
     ]
    }
   ],
   "source": [
    "print(history.history.keys())"
   ]
  },
  {
   "cell_type": "code",
   "execution_count": 59,
   "metadata": {},
   "outputs": [
    {
     "data": {
      "image/png": "[encoded data removed]",
      "text/plain": [
       "<Figure size 720x720 with 1 Axes>"
      ]
     },
     "metadata": {
      "needs_background": "light"
     },
     "output_type": "display_data"
    }
   ],
   "source": [
    "#accuracy\n",
    "\n",
    "figure_acc=plt.figure(figsize=(10,10))\n",
    "plt.plot(history.history['accuracy'])  \n",
    "plt.plot(history.history['val_accuracy']) \n",
    "plt.title('model accuracy')\n",
    "plt.ylabel('accuracy')\n",
    "plt.xlabel('epoch')\n",
    "plt.legend(['train', 'test'], loc='upper left')\n",
    "plt.show()\n",
    "figure_acc.savefig(\"generated/m_classifier/model_accuracy.png\")\n",
    "\n"
   ]
  },
  {
   "cell_type": "code",
   "execution_count": 60,
   "metadata": {},
   "outputs": [
    {
     "data": {
      "image/png": "[encoded data removed]",
      "text/plain": [
       "<Figure size 720x720 with 1 Axes>"
      ]
     },
     "metadata": {
      "needs_background": "light"
     },
     "output_type": "display_data"
    }
   ],
   "source": [
    "#loss\n",
    "\n",
    "figure_acc = plt.figure(figsize=(10, 10))\n",
    "plt.plot(history.history['loss'])\n",
    "plt.plot(history.history['val_loss'])\n",
    "plt.title('model loss')\n",
    "plt.ylabel('loss')\n",
    "plt.xlabel('epoch')\n",
    "plt.legend(['train', 'test'], loc='upper left')\n",
    "plt.show()\n",
    "figure_acc.savefig(\"generated/m_classifier/model_loss.png\")\n"
   ]
  },
  {
   "cell_type": "code",
   "execution_count": 61,
   "metadata": {},
   "outputs": [
    {
     "name": "stdout",
     "output_type": "stream",
     "text": [
      "79/79 [==============================] - 7s 86ms/step - loss: 0.1185 - accuracy: 0.9502\n",
      "Accuracy: 0.9502271413803101\n"
     ]
    }
   ],
   "source": [
    "# metrikler\n",
    "\n",
    "scores= model.evaluate(seq_array, label_array, verbose=1, batch_size=200)\n",
    "print('Accuracy: {}'.format(scores[1]))\n"
   ]
  },
  {
   "cell_type": "code",
   "execution_count": 62,
   "metadata": {},
   "outputs": [
    {
     "name": "stdout",
     "output_type": "stream",
     "text": [
      "79/79 [==============================] - 7s 82ms/step\n"
     ]
    }
   ],
   "source": [
    "# predictions\n",
    "y_pred=model.predict(seq_array, verbose=1, batch_size=200)\n",
    "y_true=label_array.astype(np.float32)"
   ]
  },
  {
   "cell_type": "code",
   "execution_count": 63,
   "metadata": {},
   "outputs": [
    {
     "data": {
      "text/plain": [
       "array([[1., 0., 0.],\n",
       "       [1., 0., 0.],\n",
       "       [1., 0., 0.],\n",
       "       ...,\n",
       "       [0., 0., 1.],\n",
       "       [0., 0., 1.],\n",
       "       [0., 0., 1.]], dtype=float32)"
      ]
     },
     "execution_count": 63,
     "metadata": {},
     "output_type": "execute_result"
    }
   ],
   "source": [
    "y_pred=np.round(abs(y_pred))\n",
    "y_pred"
   ]
  },
  {
   "cell_type": "code",
   "execution_count": 64,
   "metadata": {},
   "outputs": [
    {
     "data": {
      "text/plain": [
       "array([[0.],\n",
       "       [0.],\n",
       "       [0.],\n",
       "       ...,\n",
       "       [2.],\n",
       "       [2.],\n",
       "       [2.]], dtype=float32)"
      ]
     },
     "execution_count": 64,
     "metadata": {},
     "output_type": "execute_result"
    }
   ],
   "source": [
    "y_true"
   ]
  },
  {
   "cell_type": "code",
   "execution_count": 65,
   "metadata": {},
   "outputs": [
    {
     "name": "stdout",
     "output_type": "stream",
     "text": [
      "(15631, 3)\n",
      "(15631, 1)\n"
     ]
    }
   ],
   "source": [
    "print(y_pred.shape)    #=train vektoru=\n",
    "print(y_true.shape)   "
   ]
  },
  {
   "cell_type": "code",
   "execution_count": 66,
   "metadata": {},
   "outputs": [],
   "source": [
    "train_set=pd.DataFrame(y_pred)\n",
    "train_set.to_csv('generated/m_classifier/multi_son_train.csv', index=None)"
   ]
  },
  {
   "cell_type": "code",
   "execution_count": null,
   "metadata": {},
   "outputs": [],
   "source": []
  },
  {
   "cell_type": "code",
   "execution_count": 67,
   "metadata": {},
   "outputs": [
    {
     "name": "stdout",
     "output_type": "stream",
     "text": [
      "[[0.]\n",
      " [0.]\n",
      " [0.]\n",
      " ...\n",
      " [2.]\n",
      " [2.]\n",
      " [2.]]\n",
      "(15631, 1)\n"
     ]
    }
   ],
   "source": [
    "print(y_true)\n",
    "print(y_true.shape)"
   ]
  },
  {
   "cell_type": "code",
   "execution_count": null,
   "metadata": {},
   "outputs": [],
   "source": []
  },
  {
   "cell_type": "code",
   "execution_count": 68,
   "metadata": {},
   "outputs": [],
   "source": [
    "y_pred = y_pred.argmax(axis=1)"
   ]
  },
  {
   "cell_type": "code",
   "execution_count": 69,
   "metadata": {},
   "outputs": [
    {
     "name": "stdout",
     "output_type": "stream",
     "text": [
      "Confusion matrix:  \n",
      "\n",
      "[[12404   127     0]\n",
      " [  136  1364     0]\n",
      " [    0   367  1233]]\n"
     ]
    }
   ],
   "source": [
    "print('Confusion matrix:  \\n')\n",
    "cm=confusion_matrix(y_true, y_pred)\n",
    "print(cm)"
   ]
  },
  {
   "cell_type": "code",
   "execution_count": null,
   "metadata": {},
   "outputs": [],
   "source": []
  },
  {
   "cell_type": "code",
   "execution_count": 70,
   "metadata": {},
   "outputs": [
    {
     "name": "stdout",
     "output_type": "stream",
     "text": [
      "precision =  0.9596954769368562 \n",
      " recall =  0.9596954769368562\n"
     ]
    }
   ],
   "source": [
    "#precision ve recall hesabi\n",
    "\n",
    "precision=precision_score(y_true, y_pred, average='micro')\n",
    "recall=recall_score(y_true, y_pred, average='micro')\n",
    "print('precision = ', precision, '\\n', 'recall = ', recall)\n"
   ]
  },
  {
   "cell_type": "code",
   "execution_count": 71,
   "metadata": {},
   "outputs": [
    {
     "name": "stdout",
     "output_type": "stream",
     "text": [
      "seq_array_test_last\n",
      "(93, 50, 16)\n"
     ]
    }
   ],
   "source": [
    "seq_array_test_last=[test_df[test_df['id']==id][sequence_cols].values[-sequence_length:]\n",
    "                     for id in test_df['id'].unique() if len(test_df[test_df['id']==id]) >=sequence_length]\n",
    "\n",
    "seq_array_test_last=np.asarray(seq_array_test_last).astype(np.float32)\n",
    "print(\"seq_array_test_last\")\n",
    "#print(seq_array_test_last)\n",
    "print(seq_array_test_last.shape)\n",
    "\n",
    "\n",
    "#[93]\n",
    "#[[50 tane]]\n",
    "#[[[25 tane]]]"
   ]
  },
  {
   "cell_type": "code",
   "execution_count": 72,
   "metadata": {},
   "outputs": [
    {
     "name": "stdout",
     "output_type": "stream",
     "text": [
      "y_mask\n",
      "[False, False, True, True, True, True, True, True, True, True, True, True, True, False, True, True, True, True, True, True, True, False, True, True, False, True, True, True, True, True, True, True, True, True, True, True, True, True, False, True, True, True, True, True, True, True, True, True, True, True, True, True, True, True, True, True, True, True, True, True, True, True, True, True, True, True, True, True, True, True, True, True, True, True, True, True, True, True, True, True, True, True, True, True, False, True, True, True, True, True, True, True, True, True, True, True, True, True, True, True]\n",
      "\n",
      "\n",
      "(93, 1)\n",
      "label_array_test_last\n",
      "[[0.]\n",
      " [0.]\n",
      " [0.]\n",
      " [0.]\n",
      " [0.]\n",
      " [0.]\n",
      " [0.]\n",
      " [0.]\n",
      " [0.]\n",
      " [0.]\n",
      " [0.]\n",
      " [0.]\n",
      " [0.]\n",
      " [0.]\n",
      " [1.]\n",
      " [0.]\n",
      " [1.]\n",
      " [0.]\n",
      " [0.]\n",
      " [1.]\n",
      " [0.]\n",
      " [0.]\n",
      " [0.]\n",
      " [0.]\n",
      " [0.]\n",
      " [2.]\n",
      " [0.]\n",
      " [0.]\n",
      " [2.]\n",
      " [2.]\n",
      " [1.]\n",
      " [1.]\n",
      " [0.]\n",
      " [1.]\n",
      " [1.]\n",
      " [2.]\n",
      " [0.]\n",
      " [0.]\n",
      " [0.]\n",
      " [0.]\n",
      " [0.]\n",
      " [0.]\n",
      " [1.]\n",
      " [0.]\n",
      " [0.]\n",
      " [1.]\n",
      " [1.]\n",
      " [0.]\n",
      " [0.]\n",
      " [2.]\n",
      " [0.]\n",
      " [0.]\n",
      " [0.]\n",
      " [0.]\n",
      " [1.]\n",
      " [0.]\n",
      " [0.]\n",
      " [1.]\n",
      " [0.]\n",
      " [2.]\n",
      " [0.]\n",
      " [2.]\n",
      " [0.]\n",
      " [0.]\n",
      " [0.]\n",
      " [0.]\n",
      " [0.]\n",
      " [0.]\n",
      " [0.]\n",
      " [2.]\n",
      " [0.]\n",
      " [0.]\n",
      " [0.]\n",
      " [0.]\n",
      " [2.]\n",
      " [2.]\n",
      " [0.]\n",
      " [0.]\n",
      " [0.]\n",
      " [0.]\n",
      " [0.]\n",
      " [0.]\n",
      " [1.]\n",
      " [0.]\n",
      " [1.]\n",
      " [0.]\n",
      " [0.]\n",
      " [0.]\n",
      " [0.]\n",
      " [0.]\n",
      " [0.]\n",
      " [0.]\n",
      " [1.]]\n"
     ]
    }
   ],
   "source": [
    "# y_mask is used to take only the labels of sequences that are at least 50 long\n",
    "y_mask = [len(test_df[test_df['id']==id]) >= sequence_length for id in test_df['id'].unique()]\n",
    "\n",
    "# ==> 100 ids 100(Total)-7(False)=93(True)\n",
    "# id=1  cycle=34  so it's False\n",
    "\n",
    "print(\"y_mask\")\n",
    "print(y_mask)\n",
    "\n",
    "label_array_test_last = test_df.groupby('id')['label2'].nth(-1)[y_mask].values\n",
    "label_array_test_last = label_array_test_last.reshape(label_array_test_last.shape[0],1).astype(np.float32)\n",
    "\n",
    "print(\"\\n\")\n",
    "print(label_array_test_last.shape)\n",
    "print(\"label_array_test_last\")\n",
    "print(label_array_test_last)"
   ]
  },
  {
   "cell_type": "code",
   "execution_count": 73,
   "metadata": {},
   "outputs": [],
   "source": [
    "estimator = model"
   ]
  },
  {
   "cell_type": "code",
   "execution_count": 74,
   "metadata": {},
   "outputs": [
    {
     "name": "stdout",
     "output_type": "stream",
     "text": [
      "3/3 - 0s - loss: 0.1230 - accuracy: 0.9462\n",
      "Accurracy: 0.9462365508079529\n"
     ]
    }
   ],
   "source": [
    "# test metrikleri\n",
    "scores_test = estimator.evaluate(seq_array_test_last, label_array_test_last, verbose=2)\n",
    "print('Accurracy: {}'.format(scores_test[1]))"
   ]
  },
  {
   "cell_type": "code",
   "execution_count": 75,
   "metadata": {},
   "outputs": [],
   "source": [
    "# tahminler ve confusion matrix\n",
    "y_pred_test = estimator.predict(seq_array_test_last)            #=test vektoru=\n",
    "y_true_test = label_array_test_last\n",
    "y_pred_test=np.round(abs(y_pred_test))"
   ]
  },
  {
   "cell_type": "code",
   "execution_count": 76,
   "metadata": {},
   "outputs": [],
   "source": [
    "y_pred_test = y_pred_test.argmax(axis=1)"
   ]
  },
  {
   "cell_type": "code",
   "execution_count": 77,
   "metadata": {},
   "outputs": [],
   "source": [
    "test_set = pd.DataFrame(y_pred_test)\n",
    "test_set.to_csv('generated/m_classifier/multi_son_test.csv', index = None)"
   ]
  },
  {
   "cell_type": "code",
   "execution_count": 78,
   "metadata": {},
   "outputs": [
    {
     "name": "stdout",
     "output_type": "stream",
     "text": [
      "Confusion matrix:\n",
      "\n",
      "[[67  1  0]\n",
      " [ 1 14  0]\n",
      " [ 0  3  7]]\n"
     ]
    }
   ],
   "source": [
    "print('Confusion matrix:\\n')\n",
    "cm = confusion_matrix(y_true_test, y_pred_test)\n",
    "print(cm)"
   ]
  },
  {
   "cell_type": "code",
   "execution_count": 79,
   "metadata": {},
   "outputs": [
    {
     "name": "stdout",
     "output_type": "stream",
     "text": [
      "Precision:  0.946236559139785 \n",
      " Recall:  0.946236559139785 \n",
      " F1-score: 0.946236559139785\n"
     ]
    }
   ],
   "source": [
    "#precision , recall ve F1 skoru hesabi\n",
    "precision_test = precision_score(y_true_test, y_pred_test, average='micro')\n",
    "recall_test = recall_score(y_true_test, y_pred_test, average='micro')\n",
    "f1_test = 2 * (precision_test * recall_test) / (precision_test + recall_test)\n",
    "print( 'Precision: ', precision_test, '\\n', 'Recall: ', recall_test,'\\n', 'F1-score:', f1_test )"
   ]
  },
  {
   "cell_type": "code",
   "execution_count": 80,
   "metadata": {},
   "outputs": [
    {
     "data": {
      "image/png": "[encoded data removed]",
      "text/plain": [
       "<Figure size 1440x720 with 1 Axes>"
      ]
     },
     "metadata": {
      "needs_background": "light"
     },
     "output_type": "display_data"
    }
   ],
   "source": [
    "fig_verify = plt.figure(figsize=(20, 10))\n",
    "plt.plot(y_pred_test, color=\"blue\")\n",
    "plt.plot(y_true_test, color=\"green\")\n",
    "plt.title('tahmin', size = 15)\n",
    "plt.ylabel('normal-uyari-alarm', size = 15)\n",
    "plt.xlabel('motor_id', size = 15)\n",
    "plt.legend(['tahmin', 'gercek'], loc='upper left')\n",
    "plt.show()\n",
    "fig_verify.savefig(\"generated/m_classifier/model_verify.png\")"
   ]
  },
  {
   "cell_type": "code",
   "execution_count": null,
   "metadata": {},
   "outputs": [],
   "source": []
  },
  {
   "cell_type": "code",
   "execution_count": null,
   "metadata": {},
   "outputs": [],
   "source": []
  },
  {
   "cell_type": "code",
   "execution_count": null,
   "metadata": {},
   "outputs": [],
   "source": []
  },
  {
   "cell_type": "code",
   "execution_count": null,
   "metadata": {},
   "outputs": [],
   "source": []
  },
  {
   "cell_type": "code",
   "execution_count": null,
   "metadata": {},
   "outputs": [],
   "source": []
  },
  {
   "cell_type": "code",
   "execution_count": null,
   "metadata": {},
   "outputs": [],
   "source": []
  },
  {
   "cell_type": "code",
   "execution_count": null,
   "metadata": {},
   "outputs": [],
   "source": []
  },
  {
   "cell_type": "code",
   "execution_count": null,
   "metadata": {},
   "outputs": [],
   "source": []
  },
  {
   "cell_type": "code",
   "execution_count": null,
   "metadata": {},
   "outputs": [],
   "source": []
  },
  {
   "cell_type": "code",
   "execution_count": null,
   "metadata": {},
   "outputs": [],
   "source": []
  },
  {
   "cell_type": "code",
   "execution_count": null,
   "metadata": {},
   "outputs": [],
   "source": []
  },
  {
   "cell_type": "code",
   "execution_count": null,
   "metadata": {},
   "outputs": [],
   "source": []
  },
  {
   "cell_type": "code",
   "execution_count": null,
   "metadata": {},
   "outputs": [],
   "source": []
  },
  {
   "cell_type": "code",
   "execution_count": null,
   "metadata": {},
   "outputs": [],
   "source": []
  },
  {
   "cell_type": "code",
   "execution_count": null,
   "metadata": {},
   "outputs": [],
   "source": []
  },
  {
   "cell_type": "code",
   "execution_count": null,
   "metadata": {},
   "outputs": [],
   "source": []
  },
  {
   "cell_type": "code",
   "execution_count": null,
   "metadata": {},
   "outputs": [],
   "source": []
  },
  {
   "cell_type": "code",
   "execution_count": null,
   "metadata": {},
   "outputs": [],
   "source": []
  },
  {
   "cell_type": "code",
   "execution_count": null,
   "metadata": {},
   "outputs": [],
   "source": []
  },
  {
   "cell_type": "code",
   "execution_count": null,
   "metadata": {},
   "outputs": [],
   "source": []
  },
  {
   "cell_type": "code",
   "execution_count": null,
   "metadata": {},
   "outputs": [],
   "source": []
  },
  {
   "cell_type": "code",
   "execution_count": null,
   "metadata": {},
   "outputs": [],
   "source": []
  },
  {
   "cell_type": "code",
   "execution_count": null,
   "metadata": {},
   "outputs": [],
   "source": []
  },
  {
   "cell_type": "code",
   "execution_count": null,
   "metadata": {},
   "outputs": [],
   "source": []
  },
  {
   "cell_type": "code",
   "execution_count": null,
   "metadata": {},
   "outputs": [],
   "source": []
  },
  {
   "cell_type": "code",
   "execution_count": null,
   "metadata": {},
   "outputs": [],
   "source": []
  },
  {
   "cell_type": "code",
   "execution_count": null,
   "metadata": {},
   "outputs": [],
   "source": []
  },
  {
   "cell_type": "code",
   "execution_count": null,
   "metadata": {},
   "outputs": [],
   "source": []
  },
  {
   "cell_type": "code",
   "execution_count": null,
   "metadata": {},
   "outputs": [],
   "source": []
  },
  {
   "cell_type": "code",
   "execution_count": null,
   "metadata": {},
   "outputs": [],
   "source": []
  },
  {
   "cell_type": "code",
   "execution_count": null,
   "metadata": {},
   "outputs": [],
   "source": []
  },
  {
   "cell_type": "code",
   "execution_count": null,
   "metadata": {},
   "outputs": [],
   "source": []
  },
  {
   "cell_type": "code",
   "execution_count": null,
   "metadata": {},
   "outputs": [],
   "source": []
  },
  {
   "cell_type": "code",
   "execution_count": null,
   "metadata": {},
   "outputs": [],
   "source": []
  },
  {
   "cell_type": "code",
   "execution_count": null,
   "metadata": {},
   "outputs": [],
   "source": []
  },
  {
   "cell_type": "code",
   "execution_count": null,
   "metadata": {},
   "outputs": [],
   "source": []
  },
  {
   "cell_type": "code",
   "execution_count": null,
   "metadata": {},
   "outputs": [],
   "source": []
  },
  {
   "cell_type": "code",
   "execution_count": null,
   "metadata": {},
   "outputs": [],
   "source": []
  },
  {
   "cell_type": "code",
   "execution_count": null,
   "metadata": {},
   "outputs": [],
   "source": []
  },
  {
   "cell_type": "code",
   "execution_count": null,
   "metadata": {},
   "outputs": [],
   "source": []
  },
  {
   "cell_type": "code",
   "execution_count": null,
   "metadata": {},
   "outputs": [],
   "source": []
  },
  {
   "cell_type": "code",
   "execution_count": null,
   "metadata": {},
   "outputs": [],
   "source": []
  },
  {
   "cell_type": "code",
   "execution_count": null,
   "metadata": {},
   "outputs": [],
   "source": []
  },
  {
   "cell_type": "code",
   "execution_count": null,
   "metadata": {},
   "outputs": [],
   "source": []
  },
  {
   "cell_type": "code",
   "execution_count": null,
   "metadata": {},
   "outputs": [],
   "source": []
  },
  {
   "cell_type": "code",
   "execution_count": null,
   "metadata": {},
   "outputs": [],
   "source": []
  },
  {
   "cell_type": "code",
   "execution_count": null,
   "metadata": {},
   "outputs": [],
   "source": []
  },
  {
   "cell_type": "code",
   "execution_count": null,
   "metadata": {},
   "outputs": [],
   "source": []
  },
  {
   "cell_type": "code",
   "execution_count": null,
   "metadata": {},
   "outputs": [],
   "source": []
  },
  {
   "cell_type": "code",
   "execution_count": null,
   "metadata": {},
   "outputs": [],
   "source": []
  },
  {
   "cell_type": "code",
   "execution_count": null,
   "metadata": {},
   "outputs": [],
   "source": []
  },
  {
   "cell_type": "code",
   "execution_count": null,
   "metadata": {},
   "outputs": [],
   "source": []
  },
  {
   "cell_type": "code",
   "execution_count": null,
   "metadata": {},
   "outputs": [],
   "source": []
  },
  {
   "cell_type": "code",
   "execution_count": null,
   "metadata": {},
   "outputs": [],
   "source": []
  },
  {
   "cell_type": "code",
   "execution_count": null,
   "metadata": {},
   "outputs": [],
   "source": []
  },
  {
   "cell_type": "code",
   "execution_count": null,
   "metadata": {},
   "outputs": [],
   "source": []
  },
  {
   "cell_type": "code",
   "execution_count": null,
   "metadata": {},
   "outputs": [],
   "source": []
  },
  {
   "cell_type": "code",
   "execution_count": null,
   "metadata": {},
   "outputs": [],
   "source": []
  },
  {
   "cell_type": "code",
   "execution_count": null,
   "metadata": {},
   "outputs": [],
   "source": []
  },
  {
   "cell_type": "code",
   "execution_count": null,
   "metadata": {},
   "outputs": [],
   "source": []
  },
  {
   "cell_type": "code",
   "execution_count": null,
   "metadata": {},
   "outputs": [],
   "source": []
  },
  {
   "cell_type": "code",
   "execution_count": null,
   "metadata": {},
   "outputs": [],
   "source": []
  },
  {
   "cell_type": "code",
   "execution_count": null,
   "metadata": {},
   "outputs": [],
   "source": []
  },
  {
   "cell_type": "code",
   "execution_count": null,
   "metadata": {},
   "outputs": [],
   "source": []
  },
  {
   "cell_type": "code",
   "execution_count": null,
   "metadata": {},
   "outputs": [],
   "source": []
  },
  {
   "cell_type": "code",
   "execution_count": null,
   "metadata": {},
   "outputs": [],
   "source": []
  },
  {
   "cell_type": "code",
   "execution_count": null,
   "metadata": {},
   "outputs": [],
   "source": []
  },
  {
   "cell_type": "code",
   "execution_count": null,
   "metadata": {},
   "outputs": [],
   "source": []
  },
  {
   "cell_type": "code",
   "execution_count": null,
   "metadata": {},
   "outputs": [],
   "source": []
  },
  {
   "cell_type": "code",
   "execution_count": 23,
   "metadata": {
    "scrolled": true
   },
   "outputs": [
    {
     "name": "stdout",
     "output_type": "stream",
     "text": [
      "Epoch 1/40\n",
      "75/75 - 44s - loss: 0.3677 - accuracy: 0.8653 - val_loss: 0.2334 - val_accuracy: 0.9041\n",
      "Epoch 2/40\n",
      "75/75 - 22s - loss: 0.1413 - accuracy: 0.9399 - val_loss: 0.1878 - val_accuracy: 0.9015\n",
      "Epoch 3/40\n",
      "75/75 - 24s - loss: 0.1353 - accuracy: 0.9426 - val_loss: 0.0848 - val_accuracy: 0.9668\n",
      "Epoch 4/40\n",
      "75/75 - 23s - loss: 0.1050 - accuracy: 0.9555 - val_loss: 0.0758 - val_accuracy: 0.9731\n",
      "Epoch 5/40\n",
      "75/75 - 24s - loss: 0.1120 - accuracy: 0.9510 - val_loss: 0.1486 - val_accuracy: 0.9322\n",
      "Epoch 6/40\n",
      "75/75 - 24s - loss: 0.1078 - accuracy: 0.9539 - val_loss: 0.0995 - val_accuracy: 0.9527\n",
      "Epoch 7/40\n",
      "75/75 - 24s - loss: 0.0980 - accuracy: 0.9593 - val_loss: 0.0779 - val_accuracy: 0.9668\n",
      "Epoch 8/40\n",
      "75/75 - 22s - loss: 0.0970 - accuracy: 0.9590 - val_loss: 0.0912 - val_accuracy: 0.9578\n",
      "Epoch 9/40\n",
      "75/75 - 22s - loss: 0.0830 - accuracy: 0.9649 - val_loss: 0.1053 - val_accuracy: 0.9412\n",
      "Epoch 10/40\n",
      "75/75 - 22s - loss: 0.0864 - accuracy: 0.9628 - val_loss: 0.0961 - val_accuracy: 0.9591\n",
      "Epoch 11/40\n",
      "75/75 - 22s - loss: 0.0845 - accuracy: 0.9634 - val_loss: 0.0835 - val_accuracy: 0.9565\n",
      "Epoch 12/40\n",
      "75/75 - 22s - loss: 0.0973 - accuracy: 0.9588 - val_loss: 0.1168 - val_accuracy: 0.9527\n",
      "Epoch 13/40\n",
      "75/75 - 22s - loss: 0.0872 - accuracy: 0.9621 - val_loss: 0.0810 - val_accuracy: 0.9668\n",
      "Epoch 14/40\n",
      "75/75 - 23s - loss: 0.0769 - accuracy: 0.9683 - val_loss: 0.0748 - val_accuracy: 0.9668\n",
      "Epoch 15/40\n",
      "75/75 - 22s - loss: 0.0756 - accuracy: 0.9670 - val_loss: 0.0786 - val_accuracy: 0.9604\n",
      "Epoch 16/40\n",
      "75/75 - 22s - loss: 0.0778 - accuracy: 0.9674 - val_loss: 0.0871 - val_accuracy: 0.9552\n",
      "Epoch 17/40\n",
      "75/75 - 22s - loss: 0.0774 - accuracy: 0.9681 - val_loss: 0.1189 - val_accuracy: 0.9425\n",
      "Epoch 18/40\n",
      "75/75 - 24s - loss: 0.0811 - accuracy: 0.9643 - val_loss: 0.1095 - val_accuracy: 0.9450\n",
      "Epoch 19/40\n",
      "75/75 - 23s - loss: 0.0773 - accuracy: 0.9665 - val_loss: 0.0686 - val_accuracy: 0.9604\n",
      "Epoch 20/40\n",
      "75/75 - 22s - loss: 0.0800 - accuracy: 0.9656 - val_loss: 0.0613 - val_accuracy: 0.9706\n",
      "Epoch 21/40\n",
      "75/75 - 25s - loss: 0.0680 - accuracy: 0.9698 - val_loss: 0.0603 - val_accuracy: 0.9706\n",
      "Epoch 22/40\n",
      "75/75 - 26s - loss: 0.0756 - accuracy: 0.9686 - val_loss: 0.0729 - val_accuracy: 0.9706\n",
      "Epoch 23/40\n",
      "75/75 - 22s - loss: 0.0687 - accuracy: 0.9710 - val_loss: 0.0524 - val_accuracy: 0.9795\n",
      "Epoch 24/40\n",
      "75/75 - 22s - loss: 0.0728 - accuracy: 0.9702 - val_loss: 0.0665 - val_accuracy: 0.9719\n",
      "Epoch 25/40\n",
      "75/75 - 23s - loss: 0.0680 - accuracy: 0.9710 - val_loss: 0.0676 - val_accuracy: 0.9642\n",
      "Epoch 26/40\n",
      "75/75 - 23s - loss: 0.0725 - accuracy: 0.9690 - val_loss: 0.0640 - val_accuracy: 0.9642\n",
      "Epoch 27/40\n",
      "75/75 - 22s - loss: 0.0670 - accuracy: 0.9709 - val_loss: 0.0650 - val_accuracy: 0.9719\n",
      "Epoch 28/40\n",
      "75/75 - 22s - loss: 0.0744 - accuracy: 0.9675 - val_loss: 0.1021 - val_accuracy: 0.9578\n",
      "Epoch 29/40\n",
      "75/75 - 22s - loss: 0.0774 - accuracy: 0.9673 - val_loss: 0.0744 - val_accuracy: 0.9680\n",
      "Epoch 30/40\n",
      "75/75 - 22s - loss: 0.0682 - accuracy: 0.9704 - val_loss: 0.0655 - val_accuracy: 0.9629\n",
      "Epoch 31/40\n",
      "75/75 - 22s - loss: 0.0682 - accuracy: 0.9698 - val_loss: 0.0767 - val_accuracy: 0.9591\n",
      "Epoch 32/40\n",
      "75/75 - 22s - loss: 0.0597 - accuracy: 0.9734 - val_loss: 0.1003 - val_accuracy: 0.9655\n",
      "Epoch 33/40\n",
      "75/75 - 22s - loss: 0.0708 - accuracy: 0.9698 - val_loss: 0.0814 - val_accuracy: 0.9629\n"
     ]
    }
   ],
   "source": [
    "#fit the network\n",
    "#history=model.fit(seq_array, label_array, batch_size=200, epochs=50, validation_data=(y_train, y_test))\n",
    "history=model.fit(seq_array, label_array, epochs=40, batch_size=200, validation_split=0.05,aa verbose=2,\n",
    "                  callbacks=[keras.callbacks.EarlyStopping(monitor='val_loss', min_delta=0, patience=10, verbose=0, mode='min'),\n",
    "                             keras.callbacks.ModelCheckpoint(model_path, monitor='val_loss', save_best_only=True, mode='min', verbose=0)]\n",
    "                 )"
   ]
  },
  {
   "cell_type": "code",
   "execution_count": 24,
   "metadata": {},
   "outputs": [
    {
     "name": "stdout",
     "output_type": "stream",
     "text": [
      "dict_keys(['loss', 'accuracy', 'val_loss', 'val_accuracy'])\n"
     ]
    }
   ],
   "source": [
    "print(history.history.keys())"
   ]
  },
  {
   "cell_type": "code",
   "execution_count": 25,
   "metadata": {},
   "outputs": [
    {
     "data": {
      "image/png": "[encoded data removed]",
      "text/plain": [
       "<Figure size 720x720 with 1 Axes>"
      ]
     },
     "metadata": {
      "needs_background": "light"
     },
     "output_type": "display_data"
    }
   ],
   "source": [
    "#accuracy\n",
    "\n",
    "figure_acc=plt.figure(figsize=(10,10))\n",
    "plt.plot(history.history['accuracy'])  \n",
    "plt.plot(history.history['val_accuracy']) \n",
    "plt.title('model accuracy')\n",
    "plt.ylabel('accuracy')\n",
    "plt.xlabel('epoch')\n",
    "plt.legend(['train', 'test'], loc='upper left')\n",
    "plt.show()\n",
    "figure_acc.savefig(\"generated/m_classifier/model_accuracy.png\")\n",
    "\n"
   ]
  },
  {
   "cell_type": "code",
   "execution_count": 26,
   "metadata": {},
   "outputs": [
    {
     "data": {
      "image/png": "[encoded data removed]",
      "text/plain": [
       "<Figure size 720x720 with 1 Axes>"
      ]
     },
     "metadata": {
      "needs_background": "light"
     },
     "output_type": "display_data"
    }
   ],
   "source": [
    "#loss\n",
    "\n",
    "figure_acc = plt.figure(figsize=(10, 10))\n",
    "plt.plot(history.history['loss'])\n",
    "plt.plot(history.history['val_loss'])\n",
    "plt.title('model loss')\n",
    "plt.ylabel('loss')\n",
    "plt.xlabel('epoch')\n",
    "plt.legend(['train', 'test'], loc='upper left')\n",
    "plt.show()\n",
    "figure_acc.savefig(\"generated/m_classifier/model_loss.png\")\n"
   ]
  },
  {
   "cell_type": "code",
   "execution_count": 27,
   "metadata": {},
   "outputs": [
    {
     "name": "stdout",
     "output_type": "stream",
     "text": [
      "79/79 [==============================] - 7s 94ms/step - loss: 0.0583 - accuracy: 0.9750\n",
      "Accuracy: 0.9750495553016663\n"
     ]
    }
   ],
   "source": [
    "# metrikler\n",
    "\n",
    "scores= model.evaluate(seq_array, label_array, verbose=1, batch_size=200)\n",
    "print('Accuracy: {}'.format(scores[1]))\n"
   ]
  },
  {
   "cell_type": "code",
   "execution_count": 28,
   "metadata": {},
   "outputs": [
    {
     "name": "stdout",
     "output_type": "stream",
     "text": [
      "79/79 [==============================] - 7s 82ms/step\n"
     ]
    }
   ],
   "source": [
    "# predictions\n",
    "y_pred=model.predict(seq_array, verbose=1, batch_size=200)\n",
    "y_true=label_array.astype(np.float32)"
   ]
  },
  {
   "cell_type": "code",
   "execution_count": 29,
   "metadata": {},
   "outputs": [
    {
     "data": {
      "text/plain": [
       "array([[1., 0., 0.],\n",
       "       [1., 0., 0.],\n",
       "       [1., 0., 0.],\n",
       "       ...,\n",
       "       [0., 0., 1.],\n",
       "       [0., 0., 1.],\n",
       "       [0., 0., 1.]], dtype=float32)"
      ]
     },
     "execution_count": 29,
     "metadata": {},
     "output_type": "execute_result"
    }
   ],
   "source": [
    "y_pred=np.round(abs(y_pred))\n",
    "y_pred"
   ]
  },
  {
   "cell_type": "code",
   "execution_count": 30,
   "metadata": {},
   "outputs": [
    {
     "data": {
      "text/plain": [
       "array([[0.],\n",
       "       [0.],\n",
       "       [0.],\n",
       "       ...,\n",
       "       [2.],\n",
       "       [2.],\n",
       "       [2.]], dtype=float32)"
      ]
     },
     "execution_count": 30,
     "metadata": {},
     "output_type": "execute_result"
    }
   ],
   "source": [
    "y_true"
   ]
  },
  {
   "cell_type": "code",
   "execution_count": 31,
   "metadata": {},
   "outputs": [
    {
     "name": "stdout",
     "output_type": "stream",
     "text": [
      "(15631, 3)\n",
      "(15631, 1)\n"
     ]
    }
   ],
   "source": [
    "print(y_pred.shape)    #=train vektoru=\n",
    "print(y_true.shape)   "
   ]
  },
  {
   "cell_type": "code",
   "execution_count": 32,
   "metadata": {},
   "outputs": [],
   "source": [
    "train_set=pd.DataFrame(y_pred)\n",
    "train_set.to_csv('generated/m_classifier/multi_son_train.csv', index=None)"
   ]
  },
  {
   "cell_type": "code",
   "execution_count": null,
   "metadata": {},
   "outputs": [],
   "source": []
  },
  {
   "cell_type": "code",
   "execution_count": 33,
   "metadata": {},
   "outputs": [
    {
     "name": "stdout",
     "output_type": "stream",
     "text": [
      "[[0.]\n",
      " [0.]\n",
      " [0.]\n",
      " ...\n",
      " [2.]\n",
      " [2.]\n",
      " [2.]]\n",
      "(15631, 1)\n"
     ]
    }
   ],
   "source": [
    "print(y_true)\n",
    "print(y_true.shape)"
   ]
  },
  {
   "cell_type": "code",
   "execution_count": null,
   "metadata": {},
   "outputs": [],
   "source": []
  },
  {
   "cell_type": "code",
   "execution_count": 34,
   "metadata": {},
   "outputs": [],
   "source": [
    "y_pred = y_pred.argmax(axis=1)"
   ]
  },
  {
   "cell_type": "code",
   "execution_count": 35,
   "metadata": {},
   "outputs": [
    {
     "name": "stdout",
     "output_type": "stream",
     "text": [
      "Confusion matrix:  \n",
      "\n",
      "[[12519    12     0]\n",
      " [  297  1203     0]\n",
      " [    0   899   701]]\n"
     ]
    }
   ],
   "source": [
    "print('Confusion matrix:  \\n')\n",
    "cm=confusion_matrix(y_true, y_pred)\n",
    "print(cm)"
   ]
  },
  {
   "cell_type": "code",
   "execution_count": null,
   "metadata": {},
   "outputs": [],
   "source": []
  },
  {
   "cell_type": "code",
   "execution_count": 36,
   "metadata": {},
   "outputs": [
    {
     "name": "stdout",
     "output_type": "stream",
     "text": [
      "precision =  0.9227176764122577 \n",
      " recall =  0.9227176764122577\n"
     ]
    }
   ],
   "source": [
    "#precision ve recall hesabi\n",
    "\n",
    "precision=precision_score(y_true, y_pred, average='micro')\n",
    "recall=recall_score(y_true, y_pred, average='micro')\n",
    "print('precision = ', precision, '\\n', 'recall = ', recall)\n"
   ]
  },
  {
   "cell_type": "code",
   "execution_count": 37,
   "metadata": {},
   "outputs": [
    {
     "name": "stdout",
     "output_type": "stream",
     "text": [
      "seq_array_test_last\n",
      "(93, 50, 16)\n"
     ]
    }
   ],
   "source": [
    "seq_array_test_last=[test_df[test_df['id']==id][sequence_cols].values[-sequence_length:]\n",
    "                     for id in test_df['id'].unique() if len(test_df[test_df['id']==id]) >=sequence_length]\n",
    "\n",
    "seq_array_test_last=np.asarray(seq_array_test_last).astype(np.float32)\n",
    "print(\"seq_array_test_last\")\n",
    "#print(seq_array_test_last)\n",
    "print(seq_array_test_last.shape)\n",
    "\n",
    "\n",
    "#[93]\n",
    "#[[50 tane]]\n",
    "#[[[25 tane]]]"
   ]
  },
  {
   "cell_type": "code",
   "execution_count": 38,
   "metadata": {},
   "outputs": [
    {
     "name": "stdout",
     "output_type": "stream",
     "text": [
      "y_mask\n",
      "[False, False, True, True, True, True, True, True, True, True, True, True, True, False, True, True, True, True, True, True, True, False, True, True, False, True, True, True, True, True, True, True, True, True, True, True, True, True, False, True, True, True, True, True, True, True, True, True, True, True, True, True, True, True, True, True, True, True, True, True, True, True, True, True, True, True, True, True, True, True, True, True, True, True, True, True, True, True, True, True, True, True, True, True, False, True, True, True, True, True, True, True, True, True, True, True, True, True, True, True]\n",
      "\n",
      "\n",
      "(93, 1)\n",
      "label_array_test_last\n",
      "[[0.]\n",
      " [0.]\n",
      " [0.]\n",
      " [0.]\n",
      " [0.]\n",
      " [0.]\n",
      " [0.]\n",
      " [0.]\n",
      " [0.]\n",
      " [0.]\n",
      " [0.]\n",
      " [0.]\n",
      " [0.]\n",
      " [0.]\n",
      " [1.]\n",
      " [0.]\n",
      " [1.]\n",
      " [0.]\n",
      " [0.]\n",
      " [1.]\n",
      " [0.]\n",
      " [0.]\n",
      " [0.]\n",
      " [0.]\n",
      " [0.]\n",
      " [2.]\n",
      " [0.]\n",
      " [0.]\n",
      " [2.]\n",
      " [2.]\n",
      " [1.]\n",
      " [1.]\n",
      " [0.]\n",
      " [1.]\n",
      " [1.]\n",
      " [2.]\n",
      " [0.]\n",
      " [0.]\n",
      " [0.]\n",
      " [0.]\n",
      " [0.]\n",
      " [0.]\n",
      " [1.]\n",
      " [0.]\n",
      " [0.]\n",
      " [1.]\n",
      " [1.]\n",
      " [0.]\n",
      " [0.]\n",
      " [2.]\n",
      " [0.]\n",
      " [0.]\n",
      " [0.]\n",
      " [0.]\n",
      " [1.]\n",
      " [0.]\n",
      " [0.]\n",
      " [1.]\n",
      " [0.]\n",
      " [2.]\n",
      " [0.]\n",
      " [2.]\n",
      " [0.]\n",
      " [0.]\n",
      " [0.]\n",
      " [0.]\n",
      " [0.]\n",
      " [0.]\n",
      " [0.]\n",
      " [2.]\n",
      " [0.]\n",
      " [0.]\n",
      " [0.]\n",
      " [0.]\n",
      " [2.]\n",
      " [2.]\n",
      " [0.]\n",
      " [0.]\n",
      " [0.]\n",
      " [0.]\n",
      " [0.]\n",
      " [0.]\n",
      " [1.]\n",
      " [0.]\n",
      " [1.]\n",
      " [0.]\n",
      " [0.]\n",
      " [0.]\n",
      " [0.]\n",
      " [0.]\n",
      " [0.]\n",
      " [0.]\n",
      " [1.]]\n"
     ]
    }
   ],
   "source": [
    "# y_mask is used to take only the labels of sequences that are at least 50 long\n",
    "y_mask = [len(test_df[test_df['id']==id]) >= sequence_length for id in test_df['id'].unique()]\n",
    "\n",
    "# ==> 100 ids 100(Total)-7(False)=93(True)\n",
    "# id=1  cycle=34  so it's False\n",
    "\n",
    "print(\"y_mask\")\n",
    "print(y_mask)\n",
    "\n",
    "label_array_test_last = test_df.groupby('id')['label2'].nth(-1)[y_mask].values\n",
    "label_array_test_last = label_array_test_last.reshape(label_array_test_last.shape[0],1).astype(np.float32)\n",
    "\n",
    "print(\"\\n\")\n",
    "print(label_array_test_last.shape)\n",
    "print(\"label_array_test_last\")\n",
    "print(label_array_test_last)"
   ]
  },
  {
   "cell_type": "code",
   "execution_count": 39,
   "metadata": {},
   "outputs": [],
   "source": [
    "estimator = model"
   ]
  },
  {
   "cell_type": "code",
   "execution_count": 40,
   "metadata": {},
   "outputs": [
    {
     "name": "stdout",
     "output_type": "stream",
     "text": [
      "3/3 - 0s - loss: 0.1018 - accuracy: 0.9462\n",
      "Accurracy: 0.9462365508079529\n"
     ]
    }
   ],
   "source": [
    "# test metrikleri\n",
    "scores_test = estimator.evaluate(seq_array_test_last, label_array_test_last, verbose=2)\n",
    "print('Accurracy: {}'.format(scores_test[1]))"
   ]
  },
  {
   "cell_type": "code",
   "execution_count": 41,
   "metadata": {},
   "outputs": [],
   "source": [
    "# tahminler ve confusion matrix\n",
    "y_pred_test = estimator.predict(seq_array_test_last)            #=test vektoru=\n",
    "y_true_test = label_array_test_last\n",
    "y_pred_test=np.round(abs(y_pred_test))"
   ]
  },
  {
   "cell_type": "code",
   "execution_count": 42,
   "metadata": {},
   "outputs": [],
   "source": [
    "y_pred_test = y_pred_test.argmax(axis=1)"
   ]
  },
  {
   "cell_type": "code",
   "execution_count": 43,
   "metadata": {},
   "outputs": [],
   "source": [
    "test_set = pd.DataFrame(y_pred_test)\n",
    "test_set.to_csv('generated/m_classifier/multi_son_test.csv', index = None)"
   ]
  },
  {
   "cell_type": "code",
   "execution_count": 44,
   "metadata": {},
   "outputs": [
    {
     "name": "stdout",
     "output_type": "stream",
     "text": [
      "Confusion matrix:\n",
      "\n",
      "[[68  0  0]\n",
      " [ 2 13  0]\n",
      " [ 0  5  5]]\n"
     ]
    }
   ],
   "source": [
    "print('Confusion matrix:\\n')\n",
    "cm = confusion_matrix(y_true_test, y_pred_test)\n",
    "print(cm)"
   ]
  },
  {
   "cell_type": "code",
   "execution_count": 45,
   "metadata": {},
   "outputs": [
    {
     "name": "stdout",
     "output_type": "stream",
     "text": [
      "Precision:  0.9247311827956989 \n",
      " Recall:  0.9247311827956989 \n",
      " F1-score: 0.9247311827956989\n"
     ]
    }
   ],
   "source": [
    "#precision , recall ve F1 skoru hesabi\n",
    "precision_test = precision_score(y_true_test, y_pred_test, average='micro')\n",
    "recall_test = recall_score(y_true_test, y_pred_test, average='micro')\n",
    "f1_test = 2 * (precision_test * recall_test) / (precision_test + recall_test)\n",
    "print( 'Precision: ', precision_test, '\\n', 'Recall: ', recall_test,'\\n', 'F1-score:', f1_test )"
   ]
  },
  {
   "cell_type": "code",
   "execution_count": 46,
   "metadata": {},
   "outputs": [
    {
     "data": {
      "image/png": "[encoded data removed]",
      "text/plain": [
       "<Figure size 1440x720 with 1 Axes>"
      ]
     },
     "metadata": {
      "needs_background": "light"
     },
     "output_type": "display_data"
    }
   ],
   "source": [
    "fig_verify = plt.figure(figsize=(20, 10))\n",
    "plt.plot(y_pred_test, color=\"blue\")\n",
    "plt.plot(y_true_test, color=\"green\")\n",
    "plt.title('tahmin', size = 15)\n",
    "plt.ylabel('normal-uyari-alarm', size = 15)\n",
    "plt.xlabel('motor_id', size = 15)\n",
    "plt.legend(['tahmin', 'gercek'], loc='upper left')\n",
    "plt.show()\n",
    "fig_verify.savefig(\"generated/m_classifier/model_verify.png\")"
   ]
  },
  {
   "cell_type": "code",
   "execution_count": null,
   "metadata": {},
   "outputs": [],
   "source": []
  },
  {
   "cell_type": "code",
   "execution_count": null,
   "metadata": {},
   "outputs": [],
   "source": []
  },
  {
   "cell_type": "code",
   "execution_count": null,
   "metadata": {},
   "outputs": [],
   "source": []
  },
  {
   "cell_type": "code",
   "execution_count": null,
   "metadata": {},
   "outputs": [],
   "source": []
  },
  {
   "cell_type": "code",
   "execution_count": null,
   "metadata": {},
   "outputs": [],
   "source": []
  }
 ],
 "metadata": {
  "kernelspec": {
   "display_name": "Python 3",
   "language": "python",
   "name": "python3"
  },
  "language_info": {
   "codemirror_mode": {
    "name": "ipython",
    "version": 3
   },
   "file_extension": ".py",
   "mimetype": "text/x-python",
   "name": "python",
   "nbconvert_exporter": "python",
   "pygments_lexer": "ipython3",
   "version": "3.8.5"
  }
 },
 "nbformat": 4,
 "nbformat_minor": 4
}
